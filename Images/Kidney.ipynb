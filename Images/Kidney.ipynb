{
  "nbformat": 4,
  "nbformat_minor": 0,
  "metadata": {
    "colab": {
      "name": "Maratona_Ciencias_dados.ipynb",
      "provenance": [],
      "collapsed_sections": [
        "NR5q46VeJeF0",
        "j6t660cbgnZu",
        "M93QQqKK4Qlk",
        "Xpjv-i5l7f2U",
        "Ftbp4tAN7kdt",
        "aHJfsQGA52mh",
        "fQTHir9o52mp",
        "V915uiKL52mq",
        "xvhCRQJ_52mr",
        "QMSy2Uw_HsOq",
        "56naA_1IO3eF",
        "ipJ0eeUmOhl7",
        "-kXCkUihK3XR",
        "6SIgbhs0L8GO",
        "D5ipVL97Mx4r",
        "lzp3TMPFN7Jq"
      ]
    },
    "kernelspec": {
      "name": "python3",
      "display_name": "Python 3"
    },
    "language_info": {
      "name": "python"
    }
  },
  "cells": [
    {
      "cell_type": "markdown",
      "source": [
        "\n",
        "# <font color='Blue'>Sistema de Previsão de Doenças Renais</font>\n",
        "![](https://thumbs.gfycat.com/IdolizedAmbitiousHawk-size_restricted.gif)"
      ],
      "metadata": {
        "id": "jgGbsWfAxuxK"
      }
    },
    {
      "cell_type": "markdown",
      "source": [
        "\n",
        "\n",
        "# <font color='Black'> **Extraindo Insights com Ciência de Dados** </font>\n"
      ],
      "metadata": {
        "id": "NR5q46VeJeF0"
      }
    },
    {
      "cell_type": "markdown",
      "source": [
        "![](https://static.wixstatic.com/media/1bf968_9c6c3e2f3c70469cab5b5ccabfdab367.gif)\n",
        "\n",
        "[](https://cbswire.dk/wp-content/uploads/2020/08/computer-bits.gif)"
      ],
      "metadata": {
        "id": "9c572mxOJ0-M"
      }
    },
    {
      "cell_type": "markdown",
      "source": [
        "##1° Problema de Negócio "
      ],
      "metadata": {
        "id": "j6t660cbgnZu"
      }
    },
    {
      "cell_type": "markdown",
      "source": [
        "### O **DataHealthcare Group** é um grande Conglomerado Internacional da área da saúde. Atualmente, possui cerca de 100 mil funcionários, e presta serviços de saúde para 75 milhões de pessoas, atuando em 50 estados americanos e 17 nações ao redor do mundo. \n",
        "\n",
        "![](https://media2.giphy.com/media/3orif3cluSwcpGAxl6/200.gif)\n",
        "\n",
        "### O Grupo atua em diferentes mercados, tais como **Hospitais, planos de saúde** e benefícios para empregados, militares e aposentados, sistemas de tecnologia da informação em saúde, e programas de saúde para o setor público, dentre outros. \n",
        "\n",
        "![](https://gestaodeclinicas.ajmed.com.br/wp-content/uploads/2021/12/contabilidade-para-clinicas-de-cardiologia.gif)\n",
        "\n",
        "### Em 2021, foi **a maior empresa do ramo de saúde do mercado americano,** a frente de empresas como WellPoint Inc., CIGNA Health Insurance Company entre outras. \n",
        "\n",
        "![](https://i.makeagif.com/media/12-03-2014/EIoWlg.gif)\n",
        "\n",
        "### Atualmente, o Grupo Adquiriu um Hospital **especializado em Nefrologia** para atuar nesse ramo, que é considerada uma das categorias com maiores demandas no mercado de saúde.\n",
        "\n",
        "![](https://i0.wp.com/www.santalucia.com.br/wp-content/uploads/2018/01/Novo_site_fachada_bloco_C_HSL.jpg?fit=760%2C470)\n",
        "\n",
        "### Você foi **contratado como Cientista de Dados para, em conjunto com a junta de Nefrologistas, desenvolver um Sistema de Previsão de Doenças Renais** para auxiliar os médicos na identificação das doenças crônicas dos rins.\n",
        "\n",
        "![](https://i.gifer.com/DVyK.gif)\n"
      ],
      "metadata": {
        "id": "3gL2Opufulwx"
      }
    },
    {
      "cell_type": "markdown",
      "source": [
        "## 2° Análise Exploratória dos Dados \n"
      ],
      "metadata": {
        "id": "M93QQqKK4Qlk"
      }
    },
    {
      "cell_type": "markdown",
      "source": [
        "![](https://pa1.narvii.com/7429/d6729d16e47173bc5da4f102d9ec82e25f31b898r1-500-281_hq.gif)"
      ],
      "metadata": {
        "id": "OwgEv84dJsVX"
      }
    },
    {
      "cell_type": "markdown",
      "source": [
        "#### Uma série de Atividades que faremos para conhecer as variáveis (também chamadas de \"feature\", \"colunas\", \"atributos\"). \n",
        "\n",
        "  * Aqui vamos descobrir onde os dados estão armazenados   \n",
        "  * Como faremos para nos conectar com eles, \n",
        "  * Vamos conhecer a fundo a distribuição dos dados, os domínios possíveis, \n",
        "  * Verificar inconsistências/erros nos preenchimento dos campos etc. "
      ],
      "metadata": {
        "id": "9DHkQavj8n-8"
      }
    },
    {
      "cell_type": "markdown",
      "source": [
        "\n",
        "### 2.1 - Onde estão os Dados?"
      ],
      "metadata": {
        "id": "IetvAm148nM3"
      }
    },
    {
      "cell_type": "markdown",
      "source": [
        "### **Fonte de Dados**: Para desenvolver o **Sistema de Previsão de Doenças Renais** com Machine Learning, foram fornecidos dados de pacientes coletados pelo Group, que estão no arquivo:  **\"Kidney_data.csv\".**\n",
        "\n",
        "https://archive.ics.uci.edu/ml/datasets/Chronic_Kidney_Disease#"
      ],
      "metadata": {
        "id": "j579LRgqlPrv"
      }
    },
    {
      "cell_type": "markdown",
      "source": [
        "."
      ],
      "metadata": {
        "id": "YgHaCZVG4S8u"
      }
    },
    {
      "cell_type": "markdown",
      "source": [
        "![](https://cienciadosdados.com/images/2022/ad.png)"
      ],
      "metadata": {
        "id": "YVcqGXkCqy67"
      }
    },
    {
      "cell_type": "markdown",
      "source": [
        "### 2.2 - Conexão com os Dados"
      ],
      "metadata": {
        "id": "7RVDQQuU5yes"
      }
    },
    {
      "cell_type": "code",
      "execution_count": 1,
      "metadata": {
        "id": "OkLJFKHx52md"
      },
      "outputs": [],
      "source": [
        "# Importando Pacotes e Bibliotecas:\n",
        "import pandas as pd\n",
        "import numpy as np\n",
        "import seaborn as sns\n",
        "import matplotlib.pyplot as plt\n",
        "import warnings\n",
        "warnings.filterwarnings(\"ignore\")"
      ]
    },
    {
      "cell_type": "code",
      "execution_count": 2,
      "metadata": {
        "id": "spYY7bIf52me"
      },
      "outputs": [],
      "source": [
        "# Conectando com os Dados:\n",
        "dataset = pd.read_csv(\"Kidney_data.csv\")"
      ]
    },
    {
      "cell_type": "markdown",
      "source": [
        "\n",
        "### 2.2 - Conhecendo valores de registros para as variáveis"
      ],
      "metadata": {
        "id": "E6eGb_Ns9y3-"
      }
    },
    {
      "cell_type": "code",
      "source": [
        "# Visualisando as 5 primeiras linhas\n",
        "dataset.head(100)"
      ],
      "metadata": {
        "id": "ixqWPUhu6SMF",
        "colab": {
          "base_uri": "https://localhost:8080/",
          "height": 487
        },
        "outputId": "0fbfb0a2-98e0-4a72-80e3-13191b119f88"
      },
      "execution_count": 3,
      "outputs": [
        {
          "output_type": "execute_result",
          "data": {
            "text/html": [
              "\n",
              "  <div id=\"df-25b6083c-8acf-4050-b9fa-759d1fb08cab\">\n",
              "    <div class=\"colab-df-container\">\n",
              "      <div>\n",
              "<style scoped>\n",
              "    .dataframe tbody tr th:only-of-type {\n",
              "        vertical-align: middle;\n",
              "    }\n",
              "\n",
              "    .dataframe tbody tr th {\n",
              "        vertical-align: top;\n",
              "    }\n",
              "\n",
              "    .dataframe thead th {\n",
              "        text-align: right;\n",
              "    }\n",
              "</style>\n",
              "<table border=\"1\" class=\"dataframe\">\n",
              "  <thead>\n",
              "    <tr style=\"text-align: right;\">\n",
              "      <th></th>\n",
              "      <th>id</th>\n",
              "      <th>age</th>\n",
              "      <th>bp</th>\n",
              "      <th>sg</th>\n",
              "      <th>al</th>\n",
              "      <th>su</th>\n",
              "      <th>rbc</th>\n",
              "      <th>pc</th>\n",
              "      <th>pcc</th>\n",
              "      <th>ba</th>\n",
              "      <th>bgr</th>\n",
              "      <th>bu</th>\n",
              "      <th>sc</th>\n",
              "      <th>sod</th>\n",
              "      <th>pot</th>\n",
              "      <th>hemo</th>\n",
              "      <th>pcv</th>\n",
              "      <th>wc</th>\n",
              "      <th>rc</th>\n",
              "      <th>htn</th>\n",
              "      <th>dm</th>\n",
              "      <th>cad</th>\n",
              "      <th>appet</th>\n",
              "      <th>pe</th>\n",
              "      <th>ane</th>\n",
              "      <th>classification</th>\n",
              "    </tr>\n",
              "  </thead>\n",
              "  <tbody>\n",
              "    <tr>\n",
              "      <th>0</th>\n",
              "      <td>0</td>\n",
              "      <td>48.0</td>\n",
              "      <td>80.0</td>\n",
              "      <td>1.020</td>\n",
              "      <td>1.0</td>\n",
              "      <td>0.0</td>\n",
              "      <td>NaN</td>\n",
              "      <td>normal</td>\n",
              "      <td>notpresent</td>\n",
              "      <td>notpresent</td>\n",
              "      <td>121.0</td>\n",
              "      <td>36.0</td>\n",
              "      <td>1.2</td>\n",
              "      <td>NaN</td>\n",
              "      <td>NaN</td>\n",
              "      <td>15.4</td>\n",
              "      <td>44</td>\n",
              "      <td>7800</td>\n",
              "      <td>5.2</td>\n",
              "      <td>yes</td>\n",
              "      <td>yes</td>\n",
              "      <td>no</td>\n",
              "      <td>good</td>\n",
              "      <td>no</td>\n",
              "      <td>no</td>\n",
              "      <td>ckd</td>\n",
              "    </tr>\n",
              "    <tr>\n",
              "      <th>1</th>\n",
              "      <td>1</td>\n",
              "      <td>7.0</td>\n",
              "      <td>50.0</td>\n",
              "      <td>1.020</td>\n",
              "      <td>4.0</td>\n",
              "      <td>0.0</td>\n",
              "      <td>NaN</td>\n",
              "      <td>normal</td>\n",
              "      <td>notpresent</td>\n",
              "      <td>notpresent</td>\n",
              "      <td>NaN</td>\n",
              "      <td>18.0</td>\n",
              "      <td>0.8</td>\n",
              "      <td>NaN</td>\n",
              "      <td>NaN</td>\n",
              "      <td>11.3</td>\n",
              "      <td>38</td>\n",
              "      <td>6000</td>\n",
              "      <td>NaN</td>\n",
              "      <td>no</td>\n",
              "      <td>no</td>\n",
              "      <td>no</td>\n",
              "      <td>good</td>\n",
              "      <td>no</td>\n",
              "      <td>no</td>\n",
              "      <td>ckd</td>\n",
              "    </tr>\n",
              "    <tr>\n",
              "      <th>2</th>\n",
              "      <td>2</td>\n",
              "      <td>62.0</td>\n",
              "      <td>80.0</td>\n",
              "      <td>1.010</td>\n",
              "      <td>2.0</td>\n",
              "      <td>3.0</td>\n",
              "      <td>normal</td>\n",
              "      <td>normal</td>\n",
              "      <td>notpresent</td>\n",
              "      <td>notpresent</td>\n",
              "      <td>423.0</td>\n",
              "      <td>53.0</td>\n",
              "      <td>1.8</td>\n",
              "      <td>NaN</td>\n",
              "      <td>NaN</td>\n",
              "      <td>9.6</td>\n",
              "      <td>31</td>\n",
              "      <td>7500</td>\n",
              "      <td>NaN</td>\n",
              "      <td>no</td>\n",
              "      <td>yes</td>\n",
              "      <td>no</td>\n",
              "      <td>poor</td>\n",
              "      <td>no</td>\n",
              "      <td>yes</td>\n",
              "      <td>ckd</td>\n",
              "    </tr>\n",
              "    <tr>\n",
              "      <th>3</th>\n",
              "      <td>3</td>\n",
              "      <td>48.0</td>\n",
              "      <td>70.0</td>\n",
              "      <td>1.005</td>\n",
              "      <td>4.0</td>\n",
              "      <td>0.0</td>\n",
              "      <td>normal</td>\n",
              "      <td>abnormal</td>\n",
              "      <td>present</td>\n",
              "      <td>notpresent</td>\n",
              "      <td>117.0</td>\n",
              "      <td>56.0</td>\n",
              "      <td>3.8</td>\n",
              "      <td>111.0</td>\n",
              "      <td>2.5</td>\n",
              "      <td>11.2</td>\n",
              "      <td>32</td>\n",
              "      <td>6700</td>\n",
              "      <td>3.9</td>\n",
              "      <td>yes</td>\n",
              "      <td>no</td>\n",
              "      <td>no</td>\n",
              "      <td>poor</td>\n",
              "      <td>yes</td>\n",
              "      <td>yes</td>\n",
              "      <td>ckd</td>\n",
              "    </tr>\n",
              "    <tr>\n",
              "      <th>4</th>\n",
              "      <td>4</td>\n",
              "      <td>51.0</td>\n",
              "      <td>80.0</td>\n",
              "      <td>1.010</td>\n",
              "      <td>2.0</td>\n",
              "      <td>0.0</td>\n",
              "      <td>normal</td>\n",
              "      <td>normal</td>\n",
              "      <td>notpresent</td>\n",
              "      <td>notpresent</td>\n",
              "      <td>106.0</td>\n",
              "      <td>26.0</td>\n",
              "      <td>1.4</td>\n",
              "      <td>NaN</td>\n",
              "      <td>NaN</td>\n",
              "      <td>11.6</td>\n",
              "      <td>35</td>\n",
              "      <td>7300</td>\n",
              "      <td>4.6</td>\n",
              "      <td>no</td>\n",
              "      <td>no</td>\n",
              "      <td>no</td>\n",
              "      <td>good</td>\n",
              "      <td>no</td>\n",
              "      <td>no</td>\n",
              "      <td>ckd</td>\n",
              "    </tr>\n",
              "    <tr>\n",
              "      <th>...</th>\n",
              "      <td>...</td>\n",
              "      <td>...</td>\n",
              "      <td>...</td>\n",
              "      <td>...</td>\n",
              "      <td>...</td>\n",
              "      <td>...</td>\n",
              "      <td>...</td>\n",
              "      <td>...</td>\n",
              "      <td>...</td>\n",
              "      <td>...</td>\n",
              "      <td>...</td>\n",
              "      <td>...</td>\n",
              "      <td>...</td>\n",
              "      <td>...</td>\n",
              "      <td>...</td>\n",
              "      <td>...</td>\n",
              "      <td>...</td>\n",
              "      <td>...</td>\n",
              "      <td>...</td>\n",
              "      <td>...</td>\n",
              "      <td>...</td>\n",
              "      <td>...</td>\n",
              "      <td>...</td>\n",
              "      <td>...</td>\n",
              "      <td>...</td>\n",
              "      <td>...</td>\n",
              "    </tr>\n",
              "    <tr>\n",
              "      <th>95</th>\n",
              "      <td>95</td>\n",
              "      <td>62.0</td>\n",
              "      <td>90.0</td>\n",
              "      <td>1.015</td>\n",
              "      <td>1.0</td>\n",
              "      <td>0.0</td>\n",
              "      <td>NaN</td>\n",
              "      <td>normal</td>\n",
              "      <td>notpresent</td>\n",
              "      <td>notpresent</td>\n",
              "      <td>94.0</td>\n",
              "      <td>25.0</td>\n",
              "      <td>1.1</td>\n",
              "      <td>131.0</td>\n",
              "      <td>3.7</td>\n",
              "      <td>NaN</td>\n",
              "      <td>NaN</td>\n",
              "      <td>NaN</td>\n",
              "      <td>NaN</td>\n",
              "      <td>yes</td>\n",
              "      <td>no</td>\n",
              "      <td>no</td>\n",
              "      <td>good</td>\n",
              "      <td>yes</td>\n",
              "      <td>yes</td>\n",
              "      <td>ckd</td>\n",
              "    </tr>\n",
              "    <tr>\n",
              "      <th>96</th>\n",
              "      <td>96</td>\n",
              "      <td>60.0</td>\n",
              "      <td>80.0</td>\n",
              "      <td>1.010</td>\n",
              "      <td>1.0</td>\n",
              "      <td>1.0</td>\n",
              "      <td>NaN</td>\n",
              "      <td>normal</td>\n",
              "      <td>notpresent</td>\n",
              "      <td>notpresent</td>\n",
              "      <td>172.0</td>\n",
              "      <td>32.0</td>\n",
              "      <td>2.7</td>\n",
              "      <td>NaN</td>\n",
              "      <td>NaN</td>\n",
              "      <td>11.2</td>\n",
              "      <td>36</td>\n",
              "      <td>NaN</td>\n",
              "      <td>NaN</td>\n",
              "      <td>no</td>\n",
              "      <td>yes</td>\n",
              "      <td>yes</td>\n",
              "      <td>poor</td>\n",
              "      <td>no</td>\n",
              "      <td>no</td>\n",
              "      <td>ckd</td>\n",
              "    </tr>\n",
              "    <tr>\n",
              "      <th>97</th>\n",
              "      <td>97</td>\n",
              "      <td>65.0</td>\n",
              "      <td>60.0</td>\n",
              "      <td>1.015</td>\n",
              "      <td>1.0</td>\n",
              "      <td>0.0</td>\n",
              "      <td>NaN</td>\n",
              "      <td>normal</td>\n",
              "      <td>notpresent</td>\n",
              "      <td>notpresent</td>\n",
              "      <td>91.0</td>\n",
              "      <td>51.0</td>\n",
              "      <td>2.2</td>\n",
              "      <td>132.0</td>\n",
              "      <td>3.8</td>\n",
              "      <td>10.0</td>\n",
              "      <td>32</td>\n",
              "      <td>9100</td>\n",
              "      <td>4.0</td>\n",
              "      <td>yes</td>\n",
              "      <td>yes</td>\n",
              "      <td>no</td>\n",
              "      <td>poor</td>\n",
              "      <td>yes</td>\n",
              "      <td>no</td>\n",
              "      <td>ckd</td>\n",
              "    </tr>\n",
              "    <tr>\n",
              "      <th>98</th>\n",
              "      <td>98</td>\n",
              "      <td>50.0</td>\n",
              "      <td>140.0</td>\n",
              "      <td>NaN</td>\n",
              "      <td>NaN</td>\n",
              "      <td>NaN</td>\n",
              "      <td>NaN</td>\n",
              "      <td>NaN</td>\n",
              "      <td>notpresent</td>\n",
              "      <td>notpresent</td>\n",
              "      <td>101.0</td>\n",
              "      <td>106.0</td>\n",
              "      <td>6.5</td>\n",
              "      <td>135.0</td>\n",
              "      <td>4.3</td>\n",
              "      <td>6.2</td>\n",
              "      <td>18</td>\n",
              "      <td>5800</td>\n",
              "      <td>2.3</td>\n",
              "      <td>yes</td>\n",
              "      <td>yes</td>\n",
              "      <td>no</td>\n",
              "      <td>poor</td>\n",
              "      <td>no</td>\n",
              "      <td>yes</td>\n",
              "      <td>ckd</td>\n",
              "    </tr>\n",
              "    <tr>\n",
              "      <th>99</th>\n",
              "      <td>99</td>\n",
              "      <td>56.0</td>\n",
              "      <td>180.0</td>\n",
              "      <td>NaN</td>\n",
              "      <td>0.0</td>\n",
              "      <td>4.0</td>\n",
              "      <td>NaN</td>\n",
              "      <td>abnormal</td>\n",
              "      <td>notpresent</td>\n",
              "      <td>notpresent</td>\n",
              "      <td>298.0</td>\n",
              "      <td>24.0</td>\n",
              "      <td>1.2</td>\n",
              "      <td>139.0</td>\n",
              "      <td>3.9</td>\n",
              "      <td>11.2</td>\n",
              "      <td>32</td>\n",
              "      <td>10400</td>\n",
              "      <td>4.2</td>\n",
              "      <td>yes</td>\n",
              "      <td>yes</td>\n",
              "      <td>no</td>\n",
              "      <td>poor</td>\n",
              "      <td>yes</td>\n",
              "      <td>no</td>\n",
              "      <td>ckd</td>\n",
              "    </tr>\n",
              "  </tbody>\n",
              "</table>\n",
              "<p>100 rows × 26 columns</p>\n",
              "</div>\n",
              "      <button class=\"colab-df-convert\" onclick=\"convertToInteractive('df-25b6083c-8acf-4050-b9fa-759d1fb08cab')\"\n",
              "              title=\"Convert this dataframe to an interactive table.\"\n",
              "              style=\"display:none;\">\n",
              "        \n",
              "  <svg xmlns=\"http://www.w3.org/2000/svg\" height=\"24px\"viewBox=\"0 0 24 24\"\n",
              "       width=\"24px\">\n",
              "    <path d=\"M0 0h24v24H0V0z\" fill=\"none\"/>\n",
              "    <path d=\"M18.56 5.44l.94 2.06.94-2.06 2.06-.94-2.06-.94-.94-2.06-.94 2.06-2.06.94zm-11 1L8.5 8.5l.94-2.06 2.06-.94-2.06-.94L8.5 2.5l-.94 2.06-2.06.94zm10 10l.94 2.06.94-2.06 2.06-.94-2.06-.94-.94-2.06-.94 2.06-2.06.94z\"/><path d=\"M17.41 7.96l-1.37-1.37c-.4-.4-.92-.59-1.43-.59-.52 0-1.04.2-1.43.59L10.3 9.45l-7.72 7.72c-.78.78-.78 2.05 0 2.83L4 21.41c.39.39.9.59 1.41.59.51 0 1.02-.2 1.41-.59l7.78-7.78 2.81-2.81c.8-.78.8-2.07 0-2.86zM5.41 20L4 18.59l7.72-7.72 1.47 1.35L5.41 20z\"/>\n",
              "  </svg>\n",
              "      </button>\n",
              "      \n",
              "  <style>\n",
              "    .colab-df-container {\n",
              "      display:flex;\n",
              "      flex-wrap:wrap;\n",
              "      gap: 12px;\n",
              "    }\n",
              "\n",
              "    .colab-df-convert {\n",
              "      background-color: #E8F0FE;\n",
              "      border: none;\n",
              "      border-radius: 50%;\n",
              "      cursor: pointer;\n",
              "      display: none;\n",
              "      fill: #1967D2;\n",
              "      height: 32px;\n",
              "      padding: 0 0 0 0;\n",
              "      width: 32px;\n",
              "    }\n",
              "\n",
              "    .colab-df-convert:hover {\n",
              "      background-color: #E2EBFA;\n",
              "      box-shadow: 0px 1px 2px rgba(60, 64, 67, 0.3), 0px 1px 3px 1px rgba(60, 64, 67, 0.15);\n",
              "      fill: #174EA6;\n",
              "    }\n",
              "\n",
              "    [theme=dark] .colab-df-convert {\n",
              "      background-color: #3B4455;\n",
              "      fill: #D2E3FC;\n",
              "    }\n",
              "\n",
              "    [theme=dark] .colab-df-convert:hover {\n",
              "      background-color: #434B5C;\n",
              "      box-shadow: 0px 1px 3px 1px rgba(0, 0, 0, 0.15);\n",
              "      filter: drop-shadow(0px 1px 2px rgba(0, 0, 0, 0.3));\n",
              "      fill: #FFFFFF;\n",
              "    }\n",
              "  </style>\n",
              "\n",
              "      <script>\n",
              "        const buttonEl =\n",
              "          document.querySelector('#df-25b6083c-8acf-4050-b9fa-759d1fb08cab button.colab-df-convert');\n",
              "        buttonEl.style.display =\n",
              "          google.colab.kernel.accessAllowed ? 'block' : 'none';\n",
              "\n",
              "        async function convertToInteractive(key) {\n",
              "          const element = document.querySelector('#df-25b6083c-8acf-4050-b9fa-759d1fb08cab');\n",
              "          const dataTable =\n",
              "            await google.colab.kernel.invokeFunction('convertToInteractive',\n",
              "                                                     [key], {});\n",
              "          if (!dataTable) return;\n",
              "\n",
              "          const docLinkHtml = 'Like what you see? Visit the ' +\n",
              "            '<a target=\"_blank\" href=https://colab.research.google.com/notebooks/data_table.ipynb>data table notebook</a>'\n",
              "            + ' to learn more about interactive tables.';\n",
              "          element.innerHTML = '';\n",
              "          dataTable['output_type'] = 'display_data';\n",
              "          await google.colab.output.renderOutput(dataTable, element);\n",
              "          const docLink = document.createElement('div');\n",
              "          docLink.innerHTML = docLinkHtml;\n",
              "          element.appendChild(docLink);\n",
              "        }\n",
              "      </script>\n",
              "    </div>\n",
              "  </div>\n",
              "  "
            ],
            "text/plain": [
              "    id   age     bp     sg   al   su  ...   dm  cad appet   pe  ane  classification\n",
              "0    0  48.0   80.0  1.020  1.0  0.0  ...  yes   no  good   no   no             ckd\n",
              "1    1   7.0   50.0  1.020  4.0  0.0  ...   no   no  good   no   no             ckd\n",
              "2    2  62.0   80.0  1.010  2.0  3.0  ...  yes   no  poor   no  yes             ckd\n",
              "3    3  48.0   70.0  1.005  4.0  0.0  ...   no   no  poor  yes  yes             ckd\n",
              "4    4  51.0   80.0  1.010  2.0  0.0  ...   no   no  good   no   no             ckd\n",
              "..  ..   ...    ...    ...  ...  ...  ...  ...  ...   ...  ...  ...             ...\n",
              "95  95  62.0   90.0  1.015  1.0  0.0  ...   no   no  good  yes  yes             ckd\n",
              "96  96  60.0   80.0  1.010  1.0  1.0  ...  yes  yes  poor   no   no             ckd\n",
              "97  97  65.0   60.0  1.015  1.0  0.0  ...  yes   no  poor  yes   no             ckd\n",
              "98  98  50.0  140.0    NaN  NaN  NaN  ...  yes   no  poor   no  yes             ckd\n",
              "99  99  56.0  180.0    NaN  0.0  4.0  ...  yes   no  poor  yes   no             ckd\n",
              "\n",
              "[100 rows x 26 columns]"
            ]
          },
          "metadata": {},
          "execution_count": 3
        }
      ]
    },
    {
      "cell_type": "markdown",
      "source": [
        "\n",
        "### 2.3 - Conhecendo as Dimensões do dataset e suas variáveis"
      ],
      "metadata": {
        "id": "lI7aXSf1-KRJ"
      }
    },
    {
      "cell_type": "code",
      "execution_count": 4,
      "metadata": {
        "id": "ni8S1aqH52mf",
        "colab": {
          "base_uri": "https://localhost:8080/"
        },
        "outputId": "ddef5f0c-8d1d-4323-fb91-aa33fbecc0a7"
      },
      "outputs": [
        {
          "output_type": "execute_result",
          "data": {
            "text/plain": [
              "(400, 26)"
            ]
          },
          "metadata": {},
          "execution_count": 4
        }
      ],
      "source": [
        "# Verificando a Shape (dimensões) do dataset:\n",
        "dataset.shape"
      ]
    },
    {
      "cell_type": "code",
      "source": [
        "#Verificando informações adicionais do dataset\n",
        "dataset.info()"
      ],
      "metadata": {
        "id": "DHJ8S88-6i5t",
        "colab": {
          "base_uri": "https://localhost:8080/"
        },
        "outputId": "edd42aba-ab65-4282-d606-16eb519535bd"
      },
      "execution_count": 5,
      "outputs": [
        {
          "output_type": "stream",
          "name": "stdout",
          "text": [
            "<class 'pandas.core.frame.DataFrame'>\n",
            "RangeIndex: 400 entries, 0 to 399\n",
            "Data columns (total 26 columns):\n",
            " #   Column          Non-Null Count  Dtype  \n",
            "---  ------          --------------  -----  \n",
            " 0   id              400 non-null    int64  \n",
            " 1   age             391 non-null    float64\n",
            " 2   bp              388 non-null    float64\n",
            " 3   sg              353 non-null    float64\n",
            " 4   al              354 non-null    float64\n",
            " 5   su              351 non-null    float64\n",
            " 6   rbc             248 non-null    object \n",
            " 7   pc              335 non-null    object \n",
            " 8   pcc             396 non-null    object \n",
            " 9   ba              396 non-null    object \n",
            " 10  bgr             356 non-null    float64\n",
            " 11  bu              381 non-null    float64\n",
            " 12  sc              383 non-null    float64\n",
            " 13  sod             313 non-null    float64\n",
            " 14  pot             312 non-null    float64\n",
            " 15  hemo            348 non-null    float64\n",
            " 16  pcv             330 non-null    object \n",
            " 17  wc              295 non-null    object \n",
            " 18  rc              270 non-null    object \n",
            " 19  htn             398 non-null    object \n",
            " 20  dm              398 non-null    object \n",
            " 21  cad             398 non-null    object \n",
            " 22  appet           399 non-null    object \n",
            " 23  pe              399 non-null    object \n",
            " 24  ane             399 non-null    object \n",
            " 25  classification  400 non-null    object \n",
            "dtypes: float64(11), int64(1), object(14)\n",
            "memory usage: 81.4+ KB\n"
          ]
        }
      ]
    },
    {
      "cell_type": "code",
      "execution_count": 6,
      "metadata": {
        "id": "Od5oMLEA52mf",
        "colab": {
          "base_uri": "https://localhost:8080/"
        },
        "outputId": "175f471c-e95d-443c-9ca5-602fd04081da"
      },
      "outputs": [
        {
          "output_type": "execute_result",
          "data": {
            "text/plain": [
              "id                  0\n",
              "age                 9\n",
              "bp                 12\n",
              "sg                 47\n",
              "al                 46\n",
              "su                 49\n",
              "rbc               152\n",
              "pc                 65\n",
              "pcc                 4\n",
              "ba                  4\n",
              "bgr                44\n",
              "bu                 19\n",
              "sc                 17\n",
              "sod                87\n",
              "pot                88\n",
              "hemo               52\n",
              "pcv                70\n",
              "wc                105\n",
              "rc                130\n",
              "htn                 2\n",
              "dm                  2\n",
              "cad                 2\n",
              "appet               1\n",
              "pe                  1\n",
              "ane                 1\n",
              "classification      0\n",
              "dtype: int64"
            ]
          },
          "metadata": {},
          "execution_count": 6
        }
      ],
      "source": [
        "# Verificando se há valores Missing (valores ausentes) dos pacientes:\n",
        "dataset.isnull().sum()"
      ]
    },
    {
      "cell_type": "code",
      "source": [
        "#Verificando se há linhas duplicadas\n",
        "dataset.duplicated().sum()"
      ],
      "metadata": {
        "id": "xf8LtUm16yNQ",
        "colab": {
          "base_uri": "https://localhost:8080/"
        },
        "outputId": "b936a87f-c70c-4dc1-8075-656e6f809977"
      },
      "execution_count": 7,
      "outputs": [
        {
          "output_type": "execute_result",
          "data": {
            "text/plain": [
              "0"
            ]
          },
          "metadata": {},
          "execution_count": 7
        }
      ]
    },
    {
      "cell_type": "code",
      "source": [
        "dataset.info()"
      ],
      "metadata": {
        "colab": {
          "base_uri": "https://localhost:8080/"
        },
        "id": "TQVndMWM_RvS",
        "outputId": "b56b70aa-57af-47bd-8830-72c4c92c5d15"
      },
      "execution_count": 8,
      "outputs": [
        {
          "output_type": "stream",
          "name": "stdout",
          "text": [
            "<class 'pandas.core.frame.DataFrame'>\n",
            "RangeIndex: 400 entries, 0 to 399\n",
            "Data columns (total 26 columns):\n",
            " #   Column          Non-Null Count  Dtype  \n",
            "---  ------          --------------  -----  \n",
            " 0   id              400 non-null    int64  \n",
            " 1   age             391 non-null    float64\n",
            " 2   bp              388 non-null    float64\n",
            " 3   sg              353 non-null    float64\n",
            " 4   al              354 non-null    float64\n",
            " 5   su              351 non-null    float64\n",
            " 6   rbc             248 non-null    object \n",
            " 7   pc              335 non-null    object \n",
            " 8   pcc             396 non-null    object \n",
            " 9   ba              396 non-null    object \n",
            " 10  bgr             356 non-null    float64\n",
            " 11  bu              381 non-null    float64\n",
            " 12  sc              383 non-null    float64\n",
            " 13  sod             313 non-null    float64\n",
            " 14  pot             312 non-null    float64\n",
            " 15  hemo            348 non-null    float64\n",
            " 16  pcv             330 non-null    object \n",
            " 17  wc              295 non-null    object \n",
            " 18  rc              270 non-null    object \n",
            " 19  htn             398 non-null    object \n",
            " 20  dm              398 non-null    object \n",
            " 21  cad             398 non-null    object \n",
            " 22  appet           399 non-null    object \n",
            " 23  pe              399 non-null    object \n",
            " 24  ane             399 non-null    object \n",
            " 25  classification  400 non-null    object \n",
            "dtypes: float64(11), int64(1), object(14)\n",
            "memory usage: 81.4+ KB\n"
          ]
        }
      ]
    },
    {
      "cell_type": "code",
      "execution_count": 9,
      "metadata": {
        "id": "3o3YdE-852mg",
        "colab": {
          "base_uri": "https://localhost:8080/",
          "height": 364
        },
        "outputId": "f3c6c9ca-4ea4-49e6-b5ab-37f621ccbae8"
      },
      "outputs": [
        {
          "output_type": "execute_result",
          "data": {
            "text/html": [
              "\n",
              "  <div id=\"df-bcb126b6-1124-450a-9ebe-a7fec7637906\">\n",
              "    <div class=\"colab-df-container\">\n",
              "      <div>\n",
              "<style scoped>\n",
              "    .dataframe tbody tr th:only-of-type {\n",
              "        vertical-align: middle;\n",
              "    }\n",
              "\n",
              "    .dataframe tbody tr th {\n",
              "        vertical-align: top;\n",
              "    }\n",
              "\n",
              "    .dataframe thead th {\n",
              "        text-align: right;\n",
              "    }\n",
              "</style>\n",
              "<table border=\"1\" class=\"dataframe\">\n",
              "  <thead>\n",
              "    <tr style=\"text-align: right;\">\n",
              "      <th></th>\n",
              "      <th>id</th>\n",
              "      <th>age</th>\n",
              "      <th>bp</th>\n",
              "      <th>sg</th>\n",
              "      <th>al</th>\n",
              "      <th>su</th>\n",
              "      <th>bgr</th>\n",
              "      <th>bu</th>\n",
              "      <th>sc</th>\n",
              "      <th>sod</th>\n",
              "      <th>pot</th>\n",
              "      <th>hemo</th>\n",
              "    </tr>\n",
              "  </thead>\n",
              "  <tbody>\n",
              "    <tr>\n",
              "      <th>count</th>\n",
              "      <td>400.000000</td>\n",
              "      <td>391.000000</td>\n",
              "      <td>388.000000</td>\n",
              "      <td>353.000000</td>\n",
              "      <td>354.000000</td>\n",
              "      <td>351.000000</td>\n",
              "      <td>356.000000</td>\n",
              "      <td>381.000000</td>\n",
              "      <td>383.000000</td>\n",
              "      <td>313.000000</td>\n",
              "      <td>312.000000</td>\n",
              "      <td>348.000000</td>\n",
              "    </tr>\n",
              "    <tr>\n",
              "      <th>mean</th>\n",
              "      <td>199.500000</td>\n",
              "      <td>51.483376</td>\n",
              "      <td>76.469072</td>\n",
              "      <td>1.017408</td>\n",
              "      <td>1.016949</td>\n",
              "      <td>0.450142</td>\n",
              "      <td>148.036517</td>\n",
              "      <td>57.425722</td>\n",
              "      <td>3.072454</td>\n",
              "      <td>137.528754</td>\n",
              "      <td>4.627244</td>\n",
              "      <td>12.526437</td>\n",
              "    </tr>\n",
              "    <tr>\n",
              "      <th>std</th>\n",
              "      <td>115.614301</td>\n",
              "      <td>17.169714</td>\n",
              "      <td>13.683637</td>\n",
              "      <td>0.005717</td>\n",
              "      <td>1.352679</td>\n",
              "      <td>1.099191</td>\n",
              "      <td>79.281714</td>\n",
              "      <td>50.503006</td>\n",
              "      <td>5.741126</td>\n",
              "      <td>10.408752</td>\n",
              "      <td>3.193904</td>\n",
              "      <td>2.912587</td>\n",
              "    </tr>\n",
              "    <tr>\n",
              "      <th>min</th>\n",
              "      <td>0.000000</td>\n",
              "      <td>2.000000</td>\n",
              "      <td>50.000000</td>\n",
              "      <td>1.005000</td>\n",
              "      <td>0.000000</td>\n",
              "      <td>0.000000</td>\n",
              "      <td>22.000000</td>\n",
              "      <td>1.500000</td>\n",
              "      <td>0.400000</td>\n",
              "      <td>4.500000</td>\n",
              "      <td>2.500000</td>\n",
              "      <td>3.100000</td>\n",
              "    </tr>\n",
              "    <tr>\n",
              "      <th>25%</th>\n",
              "      <td>99.750000</td>\n",
              "      <td>42.000000</td>\n",
              "      <td>70.000000</td>\n",
              "      <td>1.010000</td>\n",
              "      <td>0.000000</td>\n",
              "      <td>0.000000</td>\n",
              "      <td>99.000000</td>\n",
              "      <td>27.000000</td>\n",
              "      <td>0.900000</td>\n",
              "      <td>135.000000</td>\n",
              "      <td>3.800000</td>\n",
              "      <td>10.300000</td>\n",
              "    </tr>\n",
              "    <tr>\n",
              "      <th>50%</th>\n",
              "      <td>199.500000</td>\n",
              "      <td>55.000000</td>\n",
              "      <td>80.000000</td>\n",
              "      <td>1.020000</td>\n",
              "      <td>0.000000</td>\n",
              "      <td>0.000000</td>\n",
              "      <td>121.000000</td>\n",
              "      <td>42.000000</td>\n",
              "      <td>1.300000</td>\n",
              "      <td>138.000000</td>\n",
              "      <td>4.400000</td>\n",
              "      <td>12.650000</td>\n",
              "    </tr>\n",
              "    <tr>\n",
              "      <th>75%</th>\n",
              "      <td>299.250000</td>\n",
              "      <td>64.500000</td>\n",
              "      <td>80.000000</td>\n",
              "      <td>1.020000</td>\n",
              "      <td>2.000000</td>\n",
              "      <td>0.000000</td>\n",
              "      <td>163.000000</td>\n",
              "      <td>66.000000</td>\n",
              "      <td>2.800000</td>\n",
              "      <td>142.000000</td>\n",
              "      <td>4.900000</td>\n",
              "      <td>15.000000</td>\n",
              "    </tr>\n",
              "    <tr>\n",
              "      <th>max</th>\n",
              "      <td>399.000000</td>\n",
              "      <td>90.000000</td>\n",
              "      <td>180.000000</td>\n",
              "      <td>1.025000</td>\n",
              "      <td>5.000000</td>\n",
              "      <td>5.000000</td>\n",
              "      <td>490.000000</td>\n",
              "      <td>391.000000</td>\n",
              "      <td>76.000000</td>\n",
              "      <td>163.000000</td>\n",
              "      <td>47.000000</td>\n",
              "      <td>17.800000</td>\n",
              "    </tr>\n",
              "  </tbody>\n",
              "</table>\n",
              "</div>\n",
              "      <button class=\"colab-df-convert\" onclick=\"convertToInteractive('df-bcb126b6-1124-450a-9ebe-a7fec7637906')\"\n",
              "              title=\"Convert this dataframe to an interactive table.\"\n",
              "              style=\"display:none;\">\n",
              "        \n",
              "  <svg xmlns=\"http://www.w3.org/2000/svg\" height=\"24px\"viewBox=\"0 0 24 24\"\n",
              "       width=\"24px\">\n",
              "    <path d=\"M0 0h24v24H0V0z\" fill=\"none\"/>\n",
              "    <path d=\"M18.56 5.44l.94 2.06.94-2.06 2.06-.94-2.06-.94-.94-2.06-.94 2.06-2.06.94zm-11 1L8.5 8.5l.94-2.06 2.06-.94-2.06-.94L8.5 2.5l-.94 2.06-2.06.94zm10 10l.94 2.06.94-2.06 2.06-.94-2.06-.94-.94-2.06-.94 2.06-2.06.94z\"/><path d=\"M17.41 7.96l-1.37-1.37c-.4-.4-.92-.59-1.43-.59-.52 0-1.04.2-1.43.59L10.3 9.45l-7.72 7.72c-.78.78-.78 2.05 0 2.83L4 21.41c.39.39.9.59 1.41.59.51 0 1.02-.2 1.41-.59l7.78-7.78 2.81-2.81c.8-.78.8-2.07 0-2.86zM5.41 20L4 18.59l7.72-7.72 1.47 1.35L5.41 20z\"/>\n",
              "  </svg>\n",
              "      </button>\n",
              "      \n",
              "  <style>\n",
              "    .colab-df-container {\n",
              "      display:flex;\n",
              "      flex-wrap:wrap;\n",
              "      gap: 12px;\n",
              "    }\n",
              "\n",
              "    .colab-df-convert {\n",
              "      background-color: #E8F0FE;\n",
              "      border: none;\n",
              "      border-radius: 50%;\n",
              "      cursor: pointer;\n",
              "      display: none;\n",
              "      fill: #1967D2;\n",
              "      height: 32px;\n",
              "      padding: 0 0 0 0;\n",
              "      width: 32px;\n",
              "    }\n",
              "\n",
              "    .colab-df-convert:hover {\n",
              "      background-color: #E2EBFA;\n",
              "      box-shadow: 0px 1px 2px rgba(60, 64, 67, 0.3), 0px 1px 3px 1px rgba(60, 64, 67, 0.15);\n",
              "      fill: #174EA6;\n",
              "    }\n",
              "\n",
              "    [theme=dark] .colab-df-convert {\n",
              "      background-color: #3B4455;\n",
              "      fill: #D2E3FC;\n",
              "    }\n",
              "\n",
              "    [theme=dark] .colab-df-convert:hover {\n",
              "      background-color: #434B5C;\n",
              "      box-shadow: 0px 1px 3px 1px rgba(0, 0, 0, 0.15);\n",
              "      filter: drop-shadow(0px 1px 2px rgba(0, 0, 0, 0.3));\n",
              "      fill: #FFFFFF;\n",
              "    }\n",
              "  </style>\n",
              "\n",
              "      <script>\n",
              "        const buttonEl =\n",
              "          document.querySelector('#df-bcb126b6-1124-450a-9ebe-a7fec7637906 button.colab-df-convert');\n",
              "        buttonEl.style.display =\n",
              "          google.colab.kernel.accessAllowed ? 'block' : 'none';\n",
              "\n",
              "        async function convertToInteractive(key) {\n",
              "          const element = document.querySelector('#df-bcb126b6-1124-450a-9ebe-a7fec7637906');\n",
              "          const dataTable =\n",
              "            await google.colab.kernel.invokeFunction('convertToInteractive',\n",
              "                                                     [key], {});\n",
              "          if (!dataTable) return;\n",
              "\n",
              "          const docLinkHtml = 'Like what you see? Visit the ' +\n",
              "            '<a target=\"_blank\" href=https://colab.research.google.com/notebooks/data_table.ipynb>data table notebook</a>'\n",
              "            + ' to learn more about interactive tables.';\n",
              "          element.innerHTML = '';\n",
              "          dataTable['output_type'] = 'display_data';\n",
              "          await google.colab.output.renderOutput(dataTable, element);\n",
              "          const docLink = document.createElement('div');\n",
              "          docLink.innerHTML = docLinkHtml;\n",
              "          element.appendChild(docLink);\n",
              "        }\n",
              "      </script>\n",
              "    </div>\n",
              "  </div>\n",
              "  "
            ],
            "text/plain": [
              "               id         age          bp  ...         sod         pot        hemo\n",
              "count  400.000000  391.000000  388.000000  ...  313.000000  312.000000  348.000000\n",
              "mean   199.500000   51.483376   76.469072  ...  137.528754    4.627244   12.526437\n",
              "std    115.614301   17.169714   13.683637  ...   10.408752    3.193904    2.912587\n",
              "min      0.000000    2.000000   50.000000  ...    4.500000    2.500000    3.100000\n",
              "25%     99.750000   42.000000   70.000000  ...  135.000000    3.800000   10.300000\n",
              "50%    199.500000   55.000000   80.000000  ...  138.000000    4.400000   12.650000\n",
              "75%    299.250000   64.500000   80.000000  ...  142.000000    4.900000   15.000000\n",
              "max    399.000000   90.000000  180.000000  ...  163.000000   47.000000   17.800000\n",
              "\n",
              "[8 rows x 12 columns]"
            ]
          },
          "metadata": {},
          "execution_count": 9
        }
      ],
      "source": [
        "# Estatística Descritiva das Variáveis:\n",
        "dataset.describe()"
      ]
    },
    {
      "cell_type": "code",
      "source": [
        "dataset.info()"
      ],
      "metadata": {
        "colab": {
          "base_uri": "https://localhost:8080/"
        },
        "id": "kkt1OTXm-zJ6",
        "outputId": "e460d3dd-a86d-485a-95f8-7809fd2f2cea"
      },
      "execution_count": 10,
      "outputs": [
        {
          "output_type": "stream",
          "name": "stdout",
          "text": [
            "<class 'pandas.core.frame.DataFrame'>\n",
            "RangeIndex: 400 entries, 0 to 399\n",
            "Data columns (total 26 columns):\n",
            " #   Column          Non-Null Count  Dtype  \n",
            "---  ------          --------------  -----  \n",
            " 0   id              400 non-null    int64  \n",
            " 1   age             391 non-null    float64\n",
            " 2   bp              388 non-null    float64\n",
            " 3   sg              353 non-null    float64\n",
            " 4   al              354 non-null    float64\n",
            " 5   su              351 non-null    float64\n",
            " 6   rbc             248 non-null    object \n",
            " 7   pc              335 non-null    object \n",
            " 8   pcc             396 non-null    object \n",
            " 9   ba              396 non-null    object \n",
            " 10  bgr             356 non-null    float64\n",
            " 11  bu              381 non-null    float64\n",
            " 12  sc              383 non-null    float64\n",
            " 13  sod             313 non-null    float64\n",
            " 14  pot             312 non-null    float64\n",
            " 15  hemo            348 non-null    float64\n",
            " 16  pcv             330 non-null    object \n",
            " 17  wc              295 non-null    object \n",
            " 18  rc              270 non-null    object \n",
            " 19  htn             398 non-null    object \n",
            " 20  dm              398 non-null    object \n",
            " 21  cad             398 non-null    object \n",
            " 22  appet           399 non-null    object \n",
            " 23  pe              399 non-null    object \n",
            " 24  ane             399 non-null    object \n",
            " 25  classification  400 non-null    object \n",
            "dtypes: float64(11), int64(1), object(14)\n",
            "memory usage: 81.4+ KB\n"
          ]
        }
      ]
    },
    {
      "cell_type": "markdown",
      "source": [
        "### 2.4 Estudo das Variáveis "
      ],
      "metadata": {
        "id": "mOoqwXGPBBGa"
      }
    },
    {
      "cell_type": "markdown",
      "source": [
        "#### Variável Target (teve ou não doença nos rins)"
      ],
      "metadata": {
        "id": "8cpav43OBHV-"
      }
    },
    {
      "cell_type": "code",
      "metadata": {
        "colab": {
          "base_uri": "https://localhost:8080/"
        },
        "id": "mfOh0SJ_eDh1",
        "outputId": "2778fad4-bb73-45a9-ae4e-b725c9bd3757"
      },
      "source": [
        "# Tabela de Frequência da Variável \"classification\" - Nossa Classe ou Label ou Target ou Y ou Variável a ser Predita (o que a gente quer descobrir)\n",
        "dataset.classification.value_counts()"
      ],
      "execution_count": 11,
      "outputs": [
        {
          "output_type": "execute_result",
          "data": {
            "text/plain": [
              "ckd       248\n",
              "notckd    150\n",
              "ckd\\t       2\n",
              "Name: classification, dtype: int64"
            ]
          },
          "metadata": {},
          "execution_count": 11
        }
      ]
    },
    {
      "cell_type": "code",
      "metadata": {
        "colab": {
          "base_uri": "https://localhost:8080/",
          "height": 297
        },
        "id": "G7GH20Lpc96o",
        "outputId": "4feed442-ac9a-46d6-e88f-db11d9061148"
      },
      "source": [
        "#Criando Gráfico de Barras para variáveis Categóricas\n",
        "sns.countplot(dataset['classification'])"
      ],
      "execution_count": 12,
      "outputs": [
        {
          "output_type": "execute_result",
          "data": {
            "text/plain": [
              "<matplotlib.axes._subplots.AxesSubplot at 0x7f730a649ad0>"
            ]
          },
          "metadata": {},
          "execution_count": 12
        },
        {
          "output_type": "display_data",
          "data": {
            "image/png": "[encoded data removed]",
            "text/plain": [
              "<Figure size 432x288 with 1 Axes>"
            ]
          },
          "metadata": {
            "needs_background": "light"
          }
        }
      ]
    },
    {
      "cell_type": "markdown",
      "source": [
        "#### Variável \"rbc\" (Glóbulos Vermelhos)"
      ],
      "metadata": {
        "id": "5z-08h8JBLw4"
      }
    },
    {
      "cell_type": "code",
      "source": [
        "# Tabela de Frequência da Variável \"rbc\" \n",
        "dataset.rbc.value_counts()"
      ],
      "metadata": {
        "colab": {
          "base_uri": "https://localhost:8080/"
        },
        "id": "nMMGN-oZ_qOH",
        "outputId": "ee9e9fc9-4137-49d9-bd0d-0a7a7d97d2e0"
      },
      "execution_count": 13,
      "outputs": [
        {
          "output_type": "execute_result",
          "data": {
            "text/plain": [
              "normal      201\n",
              "abnormal     47\n",
              "Name: rbc, dtype: int64"
            ]
          },
          "metadata": {},
          "execution_count": 13
        }
      ]
    },
    {
      "cell_type": "code",
      "source": [
        "# Criando Gráfico de Barras para variáveis Categóricas\n",
        "sns.countplot(dataset['rbc'])"
      ],
      "metadata": {
        "colab": {
          "base_uri": "https://localhost:8080/",
          "height": 297
        },
        "id": "F1UJmMpj_qRL",
        "outputId": "3e0b5154-0506-4558-e78b-5bcb445dec6d"
      },
      "execution_count": 14,
      "outputs": [
        {
          "output_type": "execute_result",
          "data": {
            "text/plain": [
              "<matplotlib.axes._subplots.AxesSubplot at 0x7f730a5cae50>"
            ]
          },
          "metadata": {},
          "execution_count": 14
        },
        {
          "output_type": "display_data",
          "data": {
            "image/png": "[encoded data removed]",
            "text/plain": [
              "<Figure size 432x288 with 1 Axes>"
            ]
          },
          "metadata": {
            "needs_background": "light"
          }
        }
      ]
    },
    {
      "cell_type": "markdown",
      "source": [
        "### Variável \"ba\" (Presença de Bactérias)"
      ],
      "metadata": {
        "id": "ne1zFeVLBXkg"
      }
    },
    {
      "cell_type": "code",
      "source": [
        "# Tabela de Frequência da Variável \"ba\" \n",
        "dataset.ba.value_counts()"
      ],
      "metadata": {
        "colab": {
          "base_uri": "https://localhost:8080/"
        },
        "id": "VrKkDUvFAPQv",
        "outputId": "48192a9f-aa37-4b8c-d95d-8359fabfcdad"
      },
      "execution_count": 15,
      "outputs": [
        {
          "output_type": "execute_result",
          "data": {
            "text/plain": [
              "notpresent    374\n",
              "present        22\n",
              "Name: ba, dtype: int64"
            ]
          },
          "metadata": {},
          "execution_count": 15
        }
      ]
    },
    {
      "cell_type": "code",
      "source": [
        "# Criando Gráfico de Barras para variáveis Categóricas\n",
        "sns.countplot(dataset['ba'])"
      ],
      "metadata": {
        "colab": {
          "base_uri": "https://localhost:8080/",
          "height": 297
        },
        "id": "Owx4QeWrARE2",
        "outputId": "b010ebc5-685b-4442-bdb6-439ee7438f1d"
      },
      "execution_count": 16,
      "outputs": [
        {
          "output_type": "execute_result",
          "data": {
            "text/plain": [
              "<matplotlib.axes._subplots.AxesSubplot at 0x7f730a0cf410>"
            ]
          },
          "metadata": {},
          "execution_count": 16
        },
        {
          "output_type": "display_data",
          "data": {
            "image/png": "[encoded data removed]",
            "text/plain": [
              "<Figure size 432x288 with 1 Axes>"
            ]
          },
          "metadata": {
            "needs_background": "light"
          }
        }
      ]
    },
    {
      "cell_type": "markdown",
      "source": [
        "#### Variável 'pc' (Células de pus)"
      ],
      "metadata": {
        "id": "AXgLBiFwBedy"
      }
    },
    {
      "cell_type": "code",
      "source": [
        "# Tabela de Frequência da Variável \"pc\" \n",
        "dataset.pc.value_counts()"
      ],
      "metadata": {
        "colab": {
          "base_uri": "https://localhost:8080/"
        },
        "id": "oUZc0ofMAuW_",
        "outputId": "df33580f-53f0-49cf-fc2d-ca7948b9c508"
      },
      "execution_count": 17,
      "outputs": [
        {
          "output_type": "execute_result",
          "data": {
            "text/plain": [
              "normal      259\n",
              "abnormal     76\n",
              "Name: pc, dtype: int64"
            ]
          },
          "metadata": {},
          "execution_count": 17
        }
      ]
    },
    {
      "cell_type": "code",
      "source": [
        "# Criando Gráfico de Barras para variáveis Categóricas\n",
        "sns.countplot(dataset['pc'])"
      ],
      "metadata": {
        "colab": {
          "base_uri": "https://localhost:8080/",
          "height": 297
        },
        "id": "yuRUBWd5AudD",
        "outputId": "c8180dfd-5513-4ec2-9926-2df55b38e64c"
      },
      "execution_count": 18,
      "outputs": [
        {
          "output_type": "execute_result",
          "data": {
            "text/plain": [
              "<matplotlib.axes._subplots.AxesSubplot at 0x7f730a034d10>"
            ]
          },
          "metadata": {},
          "execution_count": 18
        },
        {
          "output_type": "display_data",
          "data": {
            "image/png": "[encoded data removed]",
            "text/plain": [
              "<Figure size 432x288 with 1 Axes>"
            ]
          },
          "metadata": {
            "needs_background": "light"
          }
        }
      ]
    },
    {
      "cell_type": "markdown",
      "source": [
        "### Variável Idade"
      ],
      "metadata": {
        "id": "xOX7YYhwBltC"
      }
    },
    {
      "cell_type": "code",
      "source": [
        "# Tabela de Frequência da Variável \"ba\" \n",
        "dataset.age.value_counts()"
      ],
      "metadata": {
        "id": "26UbudQJB13e",
        "colab": {
          "base_uri": "https://localhost:8080/"
        },
        "outputId": "5861510f-a827-4c73-9a03-50332d83a6f1"
      },
      "execution_count": 19,
      "outputs": [
        {
          "output_type": "execute_result",
          "data": {
            "text/plain": [
              "60.0    19\n",
              "65.0    17\n",
              "48.0    12\n",
              "55.0    12\n",
              "50.0    12\n",
              "        ..\n",
              "83.0     1\n",
              "27.0     1\n",
              "14.0     1\n",
              "81.0     1\n",
              "79.0     1\n",
              "Name: age, Length: 76, dtype: int64"
            ]
          },
          "metadata": {},
          "execution_count": 19
        }
      ]
    },
    {
      "cell_type": "code",
      "source": [
        "#Criando Gráfico de Distribuição para variáveis contínuas\n",
        "sns.histplot(dataset['age'], bins=50, kde=True)"
      ],
      "metadata": {
        "colab": {
          "base_uri": "https://localhost:8080/",
          "height": 298
        },
        "id": "wBt-zJUU_qVl",
        "outputId": "cc870e55-b5de-485c-b210-678297710b1b"
      },
      "execution_count": 20,
      "outputs": [
        {
          "output_type": "execute_result",
          "data": {
            "text/plain": [
              "<matplotlib.axes._subplots.AxesSubplot at 0x7f730a00c190>"
            ]
          },
          "metadata": {},
          "execution_count": 20
        },
        {
          "output_type": "display_data",
          "data": {
            "image/png": "[encoded data removed]",
            "text/plain": [
              "<Figure size 432x288 with 1 Axes>"
            ]
          },
          "metadata": {
            "needs_background": "light"
          }
        }
      ]
    },
    {
      "cell_type": "markdown",
      "source": [
        ""
      ],
      "metadata": {
        "id": "mEEuUaFZJpdn"
      }
    },
    {
      "cell_type": "markdown",
      "source": [
        "## 3° Pré-Processamento dos Dados\n",
        "\n"
      ],
      "metadata": {
        "id": "Xpjv-i5l7f2U"
      }
    },
    {
      "cell_type": "markdown",
      "source": [
        "![](https://thumbs.gfycat.com/FailingAcidicArmadillo-size_restricted.gif)"
      ],
      "metadata": {
        "id": "oZDq5REAJwO1"
      }
    },
    {
      "cell_type": "markdown",
      "source": [
        "#### Série de atividades que faremos para corrigir os dados, tais como:\n",
        "\n",
        "  * Tratar valores missing\n",
        "  * Eliminar registros Duplicados\n",
        "  * Transformações para deixar as variáveis na mesma escala\n",
        "  * Conversão de de Variáveis \"Object\" em numéricas \n",
        "  * Eliminação de variáveis que não ajudam na previsão\n",
        "  * Criação de variáveis novas\n",
        "  * Demais tratamentos nos dados antes de criar as Máquinas Preditivas"
      ],
      "metadata": {
        "id": "Ftbp4tAN7kdt"
      }
    },
    {
      "cell_type": "code",
      "execution_count": 21,
      "metadata": {
        "id": "rCUmMjxT52mg",
        "colab": {
          "base_uri": "https://localhost:8080/"
        },
        "outputId": "bb85cec0-6513-4aa9-d8de-5152853760e8"
      },
      "outputs": [
        {
          "output_type": "execute_result",
          "data": {
            "text/plain": [
              "id                  int64\n",
              "age               float64\n",
              "bp                float64\n",
              "sg                float64\n",
              "al                float64\n",
              "su                float64\n",
              "rbc                object\n",
              "pc                 object\n",
              "pcc                object\n",
              "ba                 object\n",
              "bgr               float64\n",
              "bu                float64\n",
              "sc                float64\n",
              "sod               float64\n",
              "pot               float64\n",
              "hemo              float64\n",
              "pcv                object\n",
              "wc                 object\n",
              "rc                 object\n",
              "htn                object\n",
              "dm                 object\n",
              "cad                object\n",
              "appet              object\n",
              "pe                 object\n",
              "ane                object\n",
              "classification     object\n",
              "dtype: object"
            ]
          },
          "metadata": {},
          "execution_count": 21
        }
      ],
      "source": [
        "# Tipo das Variáveis (numeros ou texto?):\n",
        "dataset.dtypes"
      ]
    },
    {
      "cell_type": "code",
      "execution_count": 22,
      "metadata": {
        "id": "BQUk2vUd52mf"
      },
      "outputs": [],
      "source": [
        "# Eliminando Variáveis desnecessárias (CPF não é explicativa) :\n",
        "dataset = dataset.drop('id', axis=1)"
      ]
    },
    {
      "cell_type": "markdown",
      "metadata": {
        "id": "aHJfsQGA52mh"
      },
      "source": [
        "### 3.1 - Substituindo Valores categóricos (object) em números:"
      ]
    },
    {
      "cell_type": "markdown",
      "metadata": {
        "id": "X-poB_MX52mh"
      },
      "source": [
        "#### 1. rbc"
      ]
    },
    {
      "cell_type": "code",
      "execution_count": 23,
      "metadata": {
        "id": "lBBPm2pM52mh",
        "colab": {
          "base_uri": "https://localhost:8080/"
        },
        "outputId": "f7cfac70-02f8-421d-feae-114e3fb0de6d"
      },
      "outputs": [
        {
          "output_type": "execute_result",
          "data": {
            "text/plain": [
              "normal      201\n",
              "abnormal     47\n",
              "Name: rbc, dtype: int64"
            ]
          },
          "metadata": {},
          "execution_count": 23
        }
      ],
      "source": [
        "# Tabela de Frequência\n",
        "dataset['rbc'].value_counts()"
      ]
    },
    {
      "cell_type": "code",
      "execution_count": 24,
      "metadata": {
        "id": "REydQN0M52mi"
      },
      "outputs": [],
      "source": [
        "dataset['rbc'] = dataset['rbc'].replace(to_replace = {'normal' : 0, 'abnormal' : 1})"
      ]
    },
    {
      "cell_type": "code",
      "source": [
        "# Tabela de Frequência\n",
        "dataset['rbc'].value_counts()"
      ],
      "metadata": {
        "id": "m-rJjlIwCcwn",
        "colab": {
          "base_uri": "https://localhost:8080/"
        },
        "outputId": "37f17853-5ed6-4ac9-e630-dab004baa75f"
      },
      "execution_count": 25,
      "outputs": [
        {
          "output_type": "execute_result",
          "data": {
            "text/plain": [
              "0.0    201\n",
              "1.0     47\n",
              "Name: rbc, dtype: int64"
            ]
          },
          "metadata": {},
          "execution_count": 25
        }
      ]
    },
    {
      "cell_type": "markdown",
      "metadata": {
        "id": "kI79AxmJ52mi"
      },
      "source": [
        "#### 2. pc"
      ]
    },
    {
      "cell_type": "code",
      "execution_count": 26,
      "metadata": {
        "id": "PC-fHOPw52mi",
        "colab": {
          "base_uri": "https://localhost:8080/"
        },
        "outputId": "5d28e693-f65f-423d-ab54-803513ecd927"
      },
      "outputs": [
        {
          "output_type": "execute_result",
          "data": {
            "text/plain": [
              "normal      259\n",
              "abnormal     76\n",
              "Name: pc, dtype: int64"
            ]
          },
          "metadata": {},
          "execution_count": 26
        }
      ],
      "source": [
        "# Tabela de Frequência\n",
        "dataset['pc'].value_counts()"
      ]
    },
    {
      "cell_type": "code",
      "execution_count": 27,
      "metadata": {
        "id": "JLcqM7zk52mj"
      },
      "outputs": [],
      "source": [
        "dataset['pc'] = dataset['pc'].replace(to_replace = {'normal' : 0, 'abnormal' : 1})"
      ]
    },
    {
      "cell_type": "code",
      "source": [
        "# Tabela de Frequência\n",
        "dataset['pc'].value_counts()"
      ],
      "metadata": {
        "id": "J_dTR_e1CkLy",
        "colab": {
          "base_uri": "https://localhost:8080/"
        },
        "outputId": "81d15db0-f7bc-44f8-c8c5-2f8d9119d731"
      },
      "execution_count": 28,
      "outputs": [
        {
          "output_type": "execute_result",
          "data": {
            "text/plain": [
              "0.0    259\n",
              "1.0     76\n",
              "Name: pc, dtype: int64"
            ]
          },
          "metadata": {},
          "execution_count": 28
        }
      ]
    },
    {
      "cell_type": "markdown",
      "metadata": {
        "id": "RVn5uOyT52mj"
      },
      "source": [
        "#### 3. pcc"
      ]
    },
    {
      "cell_type": "code",
      "execution_count": 29,
      "metadata": {
        "id": "0HfDPpMF52mj",
        "colab": {
          "base_uri": "https://localhost:8080/"
        },
        "outputId": "2bf12110-7d3b-4292-c55c-3fab7e2402d6"
      },
      "outputs": [
        {
          "output_type": "execute_result",
          "data": {
            "text/plain": [
              "notpresent    354\n",
              "present        42\n",
              "Name: pcc, dtype: int64"
            ]
          },
          "metadata": {},
          "execution_count": 29
        }
      ],
      "source": [
        "# Tabela de Frequência\n",
        "dataset['pcc'].value_counts()"
      ]
    },
    {
      "cell_type": "code",
      "execution_count": 30,
      "metadata": {
        "id": "PoLcNdgH52mj"
      },
      "outputs": [],
      "source": [
        "dataset['pcc'] = dataset['pcc'].replace(to_replace = {'notpresent':0,'present':1})"
      ]
    },
    {
      "cell_type": "code",
      "source": [
        "# Tabela de Frequência\n",
        "dataset['pcc'].value_counts()"
      ],
      "metadata": {
        "id": "KZhdpPcFCm0W",
        "colab": {
          "base_uri": "https://localhost:8080/"
        },
        "outputId": "6617ac34-34a9-4794-ad0d-b50ee654f630"
      },
      "execution_count": 31,
      "outputs": [
        {
          "output_type": "execute_result",
          "data": {
            "text/plain": [
              "0.0    354\n",
              "1.0     42\n",
              "Name: pcc, dtype: int64"
            ]
          },
          "metadata": {},
          "execution_count": 31
        }
      ]
    },
    {
      "cell_type": "markdown",
      "metadata": {
        "id": "SVoHy8i352mk"
      },
      "source": [
        "#### 4. ba"
      ]
    },
    {
      "cell_type": "code",
      "execution_count": 32,
      "metadata": {
        "id": "ngR5jmQO52mk",
        "colab": {
          "base_uri": "https://localhost:8080/"
        },
        "outputId": "84d9979b-6d57-48ef-a22c-52f1955902f1"
      },
      "outputs": [
        {
          "output_type": "execute_result",
          "data": {
            "text/plain": [
              "notpresent    374\n",
              "present        22\n",
              "Name: ba, dtype: int64"
            ]
          },
          "metadata": {},
          "execution_count": 32
        }
      ],
      "source": [
        "# Tabela de Frequência\n",
        "dataset['ba'].value_counts()"
      ]
    },
    {
      "cell_type": "code",
      "execution_count": 33,
      "metadata": {
        "id": "BWpB-fgT52mk"
      },
      "outputs": [],
      "source": [
        "dataset['ba'] = dataset['ba'].replace(to_replace = {'notpresent':0,'present':1})"
      ]
    },
    {
      "cell_type": "code",
      "source": [
        "# Tabela de Frequência\n",
        "dataset['ba'].value_counts()"
      ],
      "metadata": {
        "id": "tJeb1zm2Cqxp",
        "colab": {
          "base_uri": "https://localhost:8080/"
        },
        "outputId": "597b9ec0-5707-4052-e0d7-cfade53153f1"
      },
      "execution_count": 34,
      "outputs": [
        {
          "output_type": "execute_result",
          "data": {
            "text/plain": [
              "0.0    374\n",
              "1.0     22\n",
              "Name: ba, dtype: int64"
            ]
          },
          "metadata": {},
          "execution_count": 34
        }
      ]
    },
    {
      "cell_type": "markdown",
      "metadata": {
        "id": "gOwWxrDw52mk"
      },
      "source": [
        "#### 5. htn"
      ]
    },
    {
      "cell_type": "code",
      "execution_count": 35,
      "metadata": {
        "id": "r3NwN3-c52ml",
        "colab": {
          "base_uri": "https://localhost:8080/"
        },
        "outputId": "f20d5beb-2886-4449-a803-3a0996418508"
      },
      "outputs": [
        {
          "output_type": "execute_result",
          "data": {
            "text/plain": [
              "no     251\n",
              "yes    147\n",
              "Name: htn, dtype: int64"
            ]
          },
          "metadata": {},
          "execution_count": 35
        }
      ],
      "source": [
        "# Tabela de Frequência\n",
        "dataset['htn'].value_counts()"
      ]
    },
    {
      "cell_type": "code",
      "execution_count": 36,
      "metadata": {
        "id": "0JKY-8bF52ml"
      },
      "outputs": [],
      "source": [
        "dataset['htn'] = dataset['htn'].replace(to_replace = {'yes' : 1, 'no' : 0})"
      ]
    },
    {
      "cell_type": "markdown",
      "metadata": {
        "id": "F7HswJV-52ml"
      },
      "source": [
        "#### 6. dm"
      ]
    },
    {
      "cell_type": "code",
      "execution_count": 37,
      "metadata": {
        "id": "sSGitkyK52ml",
        "colab": {
          "base_uri": "https://localhost:8080/"
        },
        "outputId": "eacea33f-b79f-47b1-d352-ad3f8a8a3568"
      },
      "outputs": [
        {
          "output_type": "execute_result",
          "data": {
            "text/plain": [
              "no       258\n",
              "yes      134\n",
              "\\tno       3\n",
              "\\tyes      2\n",
              " yes       1\n",
              "Name: dm, dtype: int64"
            ]
          },
          "metadata": {},
          "execution_count": 37
        }
      ],
      "source": [
        "# Tabela de Frequência\n",
        "dataset['dm'].value_counts()"
      ]
    },
    {
      "cell_type": "code",
      "execution_count": 38,
      "metadata": {
        "id": "8hdcaZny52ml"
      },
      "outputs": [],
      "source": [
        "dataset['dm'] = dataset['dm'].replace(to_replace = {'\\tyes':'yes', ' yes':'yes', '\\tno':'no'})"
      ]
    },
    {
      "cell_type": "code",
      "execution_count": 39,
      "metadata": {
        "id": "2KCZaufe52mm"
      },
      "outputs": [],
      "source": [
        "dataset['dm'] = dataset['dm'].replace(to_replace = {'yes' : 1, 'no' : 0})"
      ]
    },
    {
      "cell_type": "code",
      "source": [
        "# Tabela de Frequência\n",
        "dataset['dm'].value_counts()"
      ],
      "metadata": {
        "colab": {
          "base_uri": "https://localhost:8080/"
        },
        "id": "ut5vhyx1Czir",
        "outputId": "811b5901-f2d0-465b-9134-7b56ff58974f"
      },
      "execution_count": 40,
      "outputs": [
        {
          "output_type": "execute_result",
          "data": {
            "text/plain": [
              "0.0    261\n",
              "1.0    137\n",
              "Name: dm, dtype: int64"
            ]
          },
          "metadata": {},
          "execution_count": 40
        }
      ]
    },
    {
      "cell_type": "markdown",
      "metadata": {
        "id": "UA0OLZnj52mm"
      },
      "source": [
        "#### 7. cad"
      ]
    },
    {
      "cell_type": "code",
      "execution_count": 41,
      "metadata": {
        "id": "4GW_US7z52mm",
        "colab": {
          "base_uri": "https://localhost:8080/"
        },
        "outputId": "8cf0866d-8b5c-4d05-9f45-5281e0bf07f8"
      },
      "outputs": [
        {
          "output_type": "execute_result",
          "data": {
            "text/plain": [
              "no      362\n",
              "yes      34\n",
              "\\tno      2\n",
              "Name: cad, dtype: int64"
            ]
          },
          "metadata": {},
          "execution_count": 41
        }
      ],
      "source": [
        "# Tabela de Frequência\n",
        "dataset['cad'].value_counts()"
      ]
    },
    {
      "cell_type": "code",
      "execution_count": 42,
      "metadata": {
        "id": "dkox-PNK52mm"
      },
      "outputs": [],
      "source": [
        "dataset['cad'] = dataset['cad'].replace(to_replace = {'\\tno':'no'})"
      ]
    },
    {
      "cell_type": "code",
      "execution_count": 43,
      "metadata": {
        "id": "cHpIjjxw52mm"
      },
      "outputs": [],
      "source": [
        "dataset['cad'] = dataset['cad'].replace(to_replace = {'yes' : 1, 'no' : 0})"
      ]
    },
    {
      "cell_type": "code",
      "source": [
        "# Tabela de Frequência\n",
        "dataset['cad'].value_counts()"
      ],
      "metadata": {
        "id": "MVvLlrGhC37v",
        "colab": {
          "base_uri": "https://localhost:8080/"
        },
        "outputId": "51f5a822-3688-4c66-90c5-2aab4eebda2a"
      },
      "execution_count": 44,
      "outputs": [
        {
          "output_type": "execute_result",
          "data": {
            "text/plain": [
              "0.0    364\n",
              "1.0     34\n",
              "Name: cad, dtype: int64"
            ]
          },
          "metadata": {},
          "execution_count": 44
        }
      ]
    },
    {
      "cell_type": "markdown",
      "metadata": {
        "id": "VAFXIGJ552mm"
      },
      "source": [
        "#### 8. appet"
      ]
    },
    {
      "cell_type": "code",
      "execution_count": 45,
      "metadata": {
        "id": "L_UqLKGn52mn",
        "colab": {
          "base_uri": "https://localhost:8080/"
        },
        "outputId": "aa415b81-2b8c-4bb8-82c2-a7209904fd15"
      },
      "outputs": [
        {
          "output_type": "execute_result",
          "data": {
            "text/plain": [
              "array(['good', 'poor', nan], dtype=object)"
            ]
          },
          "metadata": {},
          "execution_count": 45
        }
      ],
      "source": [
        "# Tabela de Frequência\n",
        "dataset['appet'].unique()"
      ]
    },
    {
      "cell_type": "code",
      "execution_count": 46,
      "metadata": {
        "id": "n1Lxp_I052mn"
      },
      "outputs": [],
      "source": [
        "dataset['appet'] = dataset['appet'].replace(to_replace={'good':1,'poor':0,'no':np.nan})"
      ]
    },
    {
      "cell_type": "code",
      "source": [
        "# Tabela de Frequência\n",
        "dataset['appet'].unique()"
      ],
      "metadata": {
        "id": "dJ4jZHcuC6jx",
        "colab": {
          "base_uri": "https://localhost:8080/"
        },
        "outputId": "9c512bad-c2e4-4759-91d7-b83123d05636"
      },
      "execution_count": 47,
      "outputs": [
        {
          "output_type": "execute_result",
          "data": {
            "text/plain": [
              "array([ 1.,  0., nan])"
            ]
          },
          "metadata": {},
          "execution_count": 47
        }
      ]
    },
    {
      "cell_type": "markdown",
      "metadata": {
        "id": "_2-SteDq52mn"
      },
      "source": [
        "#### 9. pe"
      ]
    },
    {
      "cell_type": "code",
      "execution_count": 48,
      "metadata": {
        "id": "_9WWnAFl52mn",
        "colab": {
          "base_uri": "https://localhost:8080/"
        },
        "outputId": "b68bbca9-fed7-445e-bebe-bcc1c1bd8786"
      },
      "outputs": [
        {
          "output_type": "execute_result",
          "data": {
            "text/plain": [
              "no     323\n",
              "yes     76\n",
              "Name: pe, dtype: int64"
            ]
          },
          "metadata": {},
          "execution_count": 48
        }
      ],
      "source": [
        "# Tabela de Frequência\n",
        "dataset['pe'].value_counts()"
      ]
    },
    {
      "cell_type": "code",
      "execution_count": 49,
      "metadata": {
        "id": "mJvynuac52mn"
      },
      "outputs": [],
      "source": [
        "dataset['pe'] = dataset['pe'].replace(to_replace = {'yes' : 1, 'no' : 0})"
      ]
    },
    {
      "cell_type": "code",
      "source": [
        "# Tabela de Frequência\n",
        "dataset['pe'].value_counts()"
      ],
      "metadata": {
        "id": "31V2jNSzC9wU",
        "colab": {
          "base_uri": "https://localhost:8080/"
        },
        "outputId": "f5c02271-b469-4d19-8fe0-f48a5521cea3"
      },
      "execution_count": 50,
      "outputs": [
        {
          "output_type": "execute_result",
          "data": {
            "text/plain": [
              "0.0    323\n",
              "1.0     76\n",
              "Name: pe, dtype: int64"
            ]
          },
          "metadata": {},
          "execution_count": 50
        }
      ]
    },
    {
      "cell_type": "markdown",
      "metadata": {
        "id": "Cbcu38TW52mn"
      },
      "source": [
        "#### 10. ane"
      ]
    },
    {
      "cell_type": "code",
      "execution_count": 51,
      "metadata": {
        "id": "1u9d0VXU52mo",
        "colab": {
          "base_uri": "https://localhost:8080/"
        },
        "outputId": "4db79adc-964a-4773-c1c7-4d8c2596d423"
      },
      "outputs": [
        {
          "output_type": "execute_result",
          "data": {
            "text/plain": [
              "no     339\n",
              "yes     60\n",
              "Name: ane, dtype: int64"
            ]
          },
          "metadata": {},
          "execution_count": 51
        }
      ],
      "source": [
        "# Tabela de Frequência\n",
        "dataset['ane'].value_counts()"
      ]
    },
    {
      "cell_type": "code",
      "execution_count": 52,
      "metadata": {
        "id": "4liUIaFS52mo"
      },
      "outputs": [],
      "source": [
        "dataset['ane'] = dataset['ane'].replace(to_replace = {'yes' : 1, 'no' : 0})"
      ]
    },
    {
      "cell_type": "markdown",
      "metadata": {
        "id": "h6i34pMB52mo"
      },
      "source": [
        "#### 11. classification"
      ]
    },
    {
      "cell_type": "code",
      "execution_count": 53,
      "metadata": {
        "id": "-Vjq5XDg52mo",
        "colab": {
          "base_uri": "https://localhost:8080/"
        },
        "outputId": "0ba487f7-82b4-49de-eed7-117e6ddf7586"
      },
      "outputs": [
        {
          "output_type": "execute_result",
          "data": {
            "text/plain": [
              "ckd       248\n",
              "notckd    150\n",
              "ckd\\t       2\n",
              "Name: classification, dtype: int64"
            ]
          },
          "metadata": {},
          "execution_count": 53
        }
      ],
      "source": [
        "# Tabela de Frequência\n",
        "dataset['classification'].value_counts()"
      ]
    },
    {
      "cell_type": "code",
      "execution_count": 54,
      "metadata": {
        "id": "IyQ_xX1j52mo"
      },
      "outputs": [],
      "source": [
        "dataset['classification'] = dataset['classification'].replace(to_replace={'ckd\\t':'ckd'})"
      ]
    },
    {
      "cell_type": "code",
      "execution_count": 55,
      "metadata": {
        "id": "w3jq5dGA52mo"
      },
      "outputs": [],
      "source": [
        "dataset[\"classification\"] = [1 if i == \"ckd\" else 0 for i in dataset[\"classification\"]]"
      ]
    },
    {
      "cell_type": "code",
      "source": [
        "# Tabela de Frequência\n",
        "dataset['classification'].value_counts()"
      ],
      "metadata": {
        "colab": {
          "base_uri": "https://localhost:8080/"
        },
        "id": "WC8EmAUsDD5l",
        "outputId": "46dcda79-6faa-493a-efdf-234bd524d2a0"
      },
      "execution_count": 56,
      "outputs": [
        {
          "output_type": "execute_result",
          "data": {
            "text/plain": [
              "1    250\n",
              "0    150\n",
              "Name: classification, dtype: int64"
            ]
          },
          "metadata": {},
          "execution_count": 56
        }
      ]
    },
    {
      "cell_type": "code",
      "execution_count": 57,
      "metadata": {
        "id": "Dik_DSTF52mo",
        "colab": {
          "base_uri": "https://localhost:8080/",
          "height": 0
        },
        "outputId": "6bd26988-c796-4ded-d319-8173049cd0af"
      },
      "outputs": [
        {
          "output_type": "execute_result",
          "data": {
            "text/html": [
              "\n",
              "  <div id=\"df-ea52310f-12a3-49c9-916e-bd884fe792f8\">\n",
              "    <div class=\"colab-df-container\">\n",
              "      <div>\n",
              "<style scoped>\n",
              "    .dataframe tbody tr th:only-of-type {\n",
              "        vertical-align: middle;\n",
              "    }\n",
              "\n",
              "    .dataframe tbody tr th {\n",
              "        vertical-align: top;\n",
              "    }\n",
              "\n",
              "    .dataframe thead th {\n",
              "        text-align: right;\n",
              "    }\n",
              "</style>\n",
              "<table border=\"1\" class=\"dataframe\">\n",
              "  <thead>\n",
              "    <tr style=\"text-align: right;\">\n",
              "      <th></th>\n",
              "      <th>age</th>\n",
              "      <th>bp</th>\n",
              "      <th>sg</th>\n",
              "      <th>al</th>\n",
              "      <th>su</th>\n",
              "      <th>rbc</th>\n",
              "      <th>pc</th>\n",
              "      <th>pcc</th>\n",
              "      <th>ba</th>\n",
              "      <th>bgr</th>\n",
              "      <th>bu</th>\n",
              "      <th>sc</th>\n",
              "      <th>sod</th>\n",
              "      <th>pot</th>\n",
              "      <th>hemo</th>\n",
              "      <th>pcv</th>\n",
              "      <th>wc</th>\n",
              "      <th>rc</th>\n",
              "      <th>htn</th>\n",
              "      <th>dm</th>\n",
              "      <th>cad</th>\n",
              "      <th>appet</th>\n",
              "      <th>pe</th>\n",
              "      <th>ane</th>\n",
              "      <th>classification</th>\n",
              "    </tr>\n",
              "  </thead>\n",
              "  <tbody>\n",
              "    <tr>\n",
              "      <th>0</th>\n",
              "      <td>48.0</td>\n",
              "      <td>80.0</td>\n",
              "      <td>1.020</td>\n",
              "      <td>1.0</td>\n",
              "      <td>0.0</td>\n",
              "      <td>NaN</td>\n",
              "      <td>0.0</td>\n",
              "      <td>0.0</td>\n",
              "      <td>0.0</td>\n",
              "      <td>121.0</td>\n",
              "      <td>36.0</td>\n",
              "      <td>1.2</td>\n",
              "      <td>NaN</td>\n",
              "      <td>NaN</td>\n",
              "      <td>15.4</td>\n",
              "      <td>44</td>\n",
              "      <td>7800</td>\n",
              "      <td>5.2</td>\n",
              "      <td>1.0</td>\n",
              "      <td>1.0</td>\n",
              "      <td>0.0</td>\n",
              "      <td>1.0</td>\n",
              "      <td>0.0</td>\n",
              "      <td>0.0</td>\n",
              "      <td>1</td>\n",
              "    </tr>\n",
              "    <tr>\n",
              "      <th>1</th>\n",
              "      <td>7.0</td>\n",
              "      <td>50.0</td>\n",
              "      <td>1.020</td>\n",
              "      <td>4.0</td>\n",
              "      <td>0.0</td>\n",
              "      <td>NaN</td>\n",
              "      <td>0.0</td>\n",
              "      <td>0.0</td>\n",
              "      <td>0.0</td>\n",
              "      <td>NaN</td>\n",
              "      <td>18.0</td>\n",
              "      <td>0.8</td>\n",
              "      <td>NaN</td>\n",
              "      <td>NaN</td>\n",
              "      <td>11.3</td>\n",
              "      <td>38</td>\n",
              "      <td>6000</td>\n",
              "      <td>NaN</td>\n",
              "      <td>0.0</td>\n",
              "      <td>0.0</td>\n",
              "      <td>0.0</td>\n",
              "      <td>1.0</td>\n",
              "      <td>0.0</td>\n",
              "      <td>0.0</td>\n",
              "      <td>1</td>\n",
              "    </tr>\n",
              "    <tr>\n",
              "      <th>2</th>\n",
              "      <td>62.0</td>\n",
              "      <td>80.0</td>\n",
              "      <td>1.010</td>\n",
              "      <td>2.0</td>\n",
              "      <td>3.0</td>\n",
              "      <td>0.0</td>\n",
              "      <td>0.0</td>\n",
              "      <td>0.0</td>\n",
              "      <td>0.0</td>\n",
              "      <td>423.0</td>\n",
              "      <td>53.0</td>\n",
              "      <td>1.8</td>\n",
              "      <td>NaN</td>\n",
              "      <td>NaN</td>\n",
              "      <td>9.6</td>\n",
              "      <td>31</td>\n",
              "      <td>7500</td>\n",
              "      <td>NaN</td>\n",
              "      <td>0.0</td>\n",
              "      <td>1.0</td>\n",
              "      <td>0.0</td>\n",
              "      <td>0.0</td>\n",
              "      <td>0.0</td>\n",
              "      <td>1.0</td>\n",
              "      <td>1</td>\n",
              "    </tr>\n",
              "    <tr>\n",
              "      <th>3</th>\n",
              "      <td>48.0</td>\n",
              "      <td>70.0</td>\n",
              "      <td>1.005</td>\n",
              "      <td>4.0</td>\n",
              "      <td>0.0</td>\n",
              "      <td>0.0</td>\n",
              "      <td>1.0</td>\n",
              "      <td>1.0</td>\n",
              "      <td>0.0</td>\n",
              "      <td>117.0</td>\n",
              "      <td>56.0</td>\n",
              "      <td>3.8</td>\n",
              "      <td>111.0</td>\n",
              "      <td>2.5</td>\n",
              "      <td>11.2</td>\n",
              "      <td>32</td>\n",
              "      <td>6700</td>\n",
              "      <td>3.9</td>\n",
              "      <td>1.0</td>\n",
              "      <td>0.0</td>\n",
              "      <td>0.0</td>\n",
              "      <td>0.0</td>\n",
              "      <td>1.0</td>\n",
              "      <td>1.0</td>\n",
              "      <td>1</td>\n",
              "    </tr>\n",
              "    <tr>\n",
              "      <th>4</th>\n",
              "      <td>51.0</td>\n",
              "      <td>80.0</td>\n",
              "      <td>1.010</td>\n",
              "      <td>2.0</td>\n",
              "      <td>0.0</td>\n",
              "      <td>0.0</td>\n",
              "      <td>0.0</td>\n",
              "      <td>0.0</td>\n",
              "      <td>0.0</td>\n",
              "      <td>106.0</td>\n",
              "      <td>26.0</td>\n",
              "      <td>1.4</td>\n",
              "      <td>NaN</td>\n",
              "      <td>NaN</td>\n",
              "      <td>11.6</td>\n",
              "      <td>35</td>\n",
              "      <td>7300</td>\n",
              "      <td>4.6</td>\n",
              "      <td>0.0</td>\n",
              "      <td>0.0</td>\n",
              "      <td>0.0</td>\n",
              "      <td>1.0</td>\n",
              "      <td>0.0</td>\n",
              "      <td>0.0</td>\n",
              "      <td>1</td>\n",
              "    </tr>\n",
              "  </tbody>\n",
              "</table>\n",
              "</div>\n",
              "      <button class=\"colab-df-convert\" onclick=\"convertToInteractive('df-ea52310f-12a3-49c9-916e-bd884fe792f8')\"\n",
              "              title=\"Convert this dataframe to an interactive table.\"\n",
              "              style=\"display:none;\">\n",
              "        \n",
              "  <svg xmlns=\"http://www.w3.org/2000/svg\" height=\"24px\"viewBox=\"0 0 24 24\"\n",
              "       width=\"24px\">\n",
              "    <path d=\"M0 0h24v24H0V0z\" fill=\"none\"/>\n",
              "    <path d=\"M18.56 5.44l.94 2.06.94-2.06 2.06-.94-2.06-.94-.94-2.06-.94 2.06-2.06.94zm-11 1L8.5 8.5l.94-2.06 2.06-.94-2.06-.94L8.5 2.5l-.94 2.06-2.06.94zm10 10l.94 2.06.94-2.06 2.06-.94-2.06-.94-.94-2.06-.94 2.06-2.06.94z\"/><path d=\"M17.41 7.96l-1.37-1.37c-.4-.4-.92-.59-1.43-.59-.52 0-1.04.2-1.43.59L10.3 9.45l-7.72 7.72c-.78.78-.78 2.05 0 2.83L4 21.41c.39.39.9.59 1.41.59.51 0 1.02-.2 1.41-.59l7.78-7.78 2.81-2.81c.8-.78.8-2.07 0-2.86zM5.41 20L4 18.59l7.72-7.72 1.47 1.35L5.41 20z\"/>\n",
              "  </svg>\n",
              "      </button>\n",
              "      \n",
              "  <style>\n",
              "    .colab-df-container {\n",
              "      display:flex;\n",
              "      flex-wrap:wrap;\n",
              "      gap: 12px;\n",
              "    }\n",
              "\n",
              "    .colab-df-convert {\n",
              "      background-color: #E8F0FE;\n",
              "      border: none;\n",
              "      border-radius: 50%;\n",
              "      cursor: pointer;\n",
              "      display: none;\n",
              "      fill: #1967D2;\n",
              "      height: 32px;\n",
              "      padding: 0 0 0 0;\n",
              "      width: 32px;\n",
              "    }\n",
              "\n",
              "    .colab-df-convert:hover {\n",
              "      background-color: #E2EBFA;\n",
              "      box-shadow: 0px 1px 2px rgba(60, 64, 67, 0.3), 0px 1px 3px 1px rgba(60, 64, 67, 0.15);\n",
              "      fill: #174EA6;\n",
              "    }\n",
              "\n",
              "    [theme=dark] .colab-df-convert {\n",
              "      background-color: #3B4455;\n",
              "      fill: #D2E3FC;\n",
              "    }\n",
              "\n",
              "    [theme=dark] .colab-df-convert:hover {\n",
              "      background-color: #434B5C;\n",
              "      box-shadow: 0px 1px 3px 1px rgba(0, 0, 0, 0.15);\n",
              "      filter: drop-shadow(0px 1px 2px rgba(0, 0, 0, 0.3));\n",
              "      fill: #FFFFFF;\n",
              "    }\n",
              "  </style>\n",
              "\n",
              "      <script>\n",
              "        const buttonEl =\n",
              "          document.querySelector('#df-ea52310f-12a3-49c9-916e-bd884fe792f8 button.colab-df-convert');\n",
              "        buttonEl.style.display =\n",
              "          google.colab.kernel.accessAllowed ? 'block' : 'none';\n",
              "\n",
              "        async function convertToInteractive(key) {\n",
              "          const element = document.querySelector('#df-ea52310f-12a3-49c9-916e-bd884fe792f8');\n",
              "          const dataTable =\n",
              "            await google.colab.kernel.invokeFunction('convertToInteractive',\n",
              "                                                     [key], {});\n",
              "          if (!dataTable) return;\n",
              "\n",
              "          const docLinkHtml = 'Like what you see? Visit the ' +\n",
              "            '<a target=\"_blank\" href=https://colab.research.google.com/notebooks/data_table.ipynb>data table notebook</a>'\n",
              "            + ' to learn more about interactive tables.';\n",
              "          element.innerHTML = '';\n",
              "          dataTable['output_type'] = 'display_data';\n",
              "          await google.colab.output.renderOutput(dataTable, element);\n",
              "          const docLink = document.createElement('div');\n",
              "          docLink.innerHTML = docLinkHtml;\n",
              "          element.appendChild(docLink);\n",
              "        }\n",
              "      </script>\n",
              "    </div>\n",
              "  </div>\n",
              "  "
            ],
            "text/plain": [
              "    age    bp     sg   al   su  rbc  ...   dm  cad  appet   pe  ane  classification\n",
              "0  48.0  80.0  1.020  1.0  0.0  NaN  ...  1.0  0.0    1.0  0.0  0.0               1\n",
              "1   7.0  50.0  1.020  4.0  0.0  NaN  ...  0.0  0.0    1.0  0.0  0.0               1\n",
              "2  62.0  80.0  1.010  2.0  3.0  0.0  ...  1.0  0.0    0.0  0.0  1.0               1\n",
              "3  48.0  70.0  1.005  4.0  0.0  0.0  ...  0.0  0.0    0.0  1.0  1.0               1\n",
              "4  51.0  80.0  1.010  2.0  0.0  0.0  ...  0.0  0.0    1.0  0.0  0.0               1\n",
              "\n",
              "[5 rows x 25 columns]"
            ]
          },
          "metadata": {},
          "execution_count": 57
        }
      ],
      "source": [
        "# Verificando os primeiros registros(pacientes)\n",
        "dataset.head()"
      ]
    },
    {
      "cell_type": "code",
      "execution_count": 58,
      "metadata": {
        "id": "qT_wY9sJ52mp",
        "colab": {
          "base_uri": "https://localhost:8080/"
        },
        "outputId": "12f74de4-45eb-47b3-bf96-a557300686db"
      },
      "outputs": [
        {
          "output_type": "execute_result",
          "data": {
            "text/plain": [
              "age               float64\n",
              "bp                float64\n",
              "sg                float64\n",
              "al                float64\n",
              "su                float64\n",
              "rbc               float64\n",
              "pc                float64\n",
              "pcc               float64\n",
              "ba                float64\n",
              "bgr               float64\n",
              "bu                float64\n",
              "sc                float64\n",
              "sod               float64\n",
              "pot               float64\n",
              "hemo              float64\n",
              "pcv                object\n",
              "wc                 object\n",
              "rc                 object\n",
              "htn               float64\n",
              "dm                float64\n",
              "cad               float64\n",
              "appet             float64\n",
              "pe                float64\n",
              "ane               float64\n",
              "classification      int64\n",
              "dtype: object"
            ]
          },
          "metadata": {},
          "execution_count": 58
        }
      ],
      "source": [
        "# Verificando o tipo das variáveis:\n",
        "dataset.dtypes"
      ]
    },
    {
      "cell_type": "markdown",
      "metadata": {
        "id": "fQTHir9o52mp"
      },
      "source": [
        "### 3.2 - Convertento variáveis \"Object\" em numéricas:"
      ]
    },
    {
      "cell_type": "code",
      "source": [
        "dataset['rc'].value_counts()"
      ],
      "metadata": {
        "id": "zA-DFcYC8pYt",
        "colab": {
          "base_uri": "https://localhost:8080/"
        },
        "outputId": "bba68a0d-0dd3-4f4d-af08-03a4aa3613d5"
      },
      "execution_count": 59,
      "outputs": [
        {
          "output_type": "execute_result",
          "data": {
            "text/plain": [
              "5.2    18\n",
              "4.5    16\n",
              "4.9    14\n",
              "4.7    11\n",
              "4.8    10\n",
              "3.9    10\n",
              "4.6     9\n",
              "3.4     9\n",
              "5.9     8\n",
              "5.5     8\n",
              "6.1     8\n",
              "5.0     8\n",
              "3.7     8\n",
              "5.3     7\n",
              "5.8     7\n",
              "5.4     7\n",
              "3.8     7\n",
              "5.6     6\n",
              "4.3     6\n",
              "4.2     6\n",
              "3.2     5\n",
              "4.4     5\n",
              "5.7     5\n",
              "6.4     5\n",
              "5.1     5\n",
              "6.2     5\n",
              "6.5     5\n",
              "4.1     5\n",
              "3.6     4\n",
              "6.3     4\n",
              "6.0     4\n",
              "4.0     3\n",
              "3.3     3\n",
              "4       3\n",
              "3.5     3\n",
              "2.9     2\n",
              "3.1     2\n",
              "2.6     2\n",
              "2.1     2\n",
              "2.5     2\n",
              "2.8     2\n",
              "3.0     2\n",
              "2.7     2\n",
              "5       2\n",
              "2.3     1\n",
              "\\t?     1\n",
              "2.4     1\n",
              "3       1\n",
              "8.0     1\n",
              "Name: rc, dtype: int64"
            ]
          },
          "metadata": {},
          "execution_count": 59
        }
      ]
    },
    {
      "cell_type": "code",
      "execution_count": 60,
      "metadata": {
        "id": "OtFlSSYP52mp"
      },
      "outputs": [],
      "source": [
        "dataset['pcv'] = pd.to_numeric(dataset['pcv'], errors='coerce')\n",
        "dataset['wc'] = pd.to_numeric(dataset['wc'], errors='coerce')\n",
        "dataset['rc'] = pd.to_numeric(dataset['rc'], errors='coerce')\n",
        "dataset['cad'] = pd.to_numeric(dataset['rc'], errors='coerce')"
      ]
    },
    {
      "cell_type": "code",
      "execution_count": 61,
      "metadata": {
        "id": "1RndDI9N52mp",
        "colab": {
          "base_uri": "https://localhost:8080/"
        },
        "outputId": "3092e67f-df5b-45a0-a44f-8a967f14cc62"
      },
      "outputs": [
        {
          "output_type": "execute_result",
          "data": {
            "text/plain": [
              "age               float64\n",
              "bp                float64\n",
              "sg                float64\n",
              "al                float64\n",
              "su                float64\n",
              "rbc               float64\n",
              "pc                float64\n",
              "pcc               float64\n",
              "ba                float64\n",
              "bgr               float64\n",
              "bu                float64\n",
              "sc                float64\n",
              "sod               float64\n",
              "pot               float64\n",
              "hemo              float64\n",
              "pcv               float64\n",
              "wc                float64\n",
              "rc                float64\n",
              "htn               float64\n",
              "dm                float64\n",
              "cad               float64\n",
              "appet             float64\n",
              "pe                float64\n",
              "ane               float64\n",
              "classification      int64\n",
              "dtype: object"
            ]
          },
          "metadata": {},
          "execution_count": 61
        }
      ],
      "source": [
        "# Tipos das Variáveis (núméricas ou object/string):\n",
        "dataset.dtypes"
      ]
    },
    {
      "cell_type": "code",
      "execution_count": 62,
      "metadata": {
        "id": "dfMKM82H52mp",
        "colab": {
          "base_uri": "https://localhost:8080/",
          "height": 0
        },
        "outputId": "6938e018-7b95-4cac-c38c-e370e931e882"
      },
      "outputs": [
        {
          "output_type": "execute_result",
          "data": {
            "text/html": [
              "\n",
              "  <div id=\"df-235c2603-6278-4915-9530-e473f5f5bf36\">\n",
              "    <div class=\"colab-df-container\">\n",
              "      <div>\n",
              "<style scoped>\n",
              "    .dataframe tbody tr th:only-of-type {\n",
              "        vertical-align: middle;\n",
              "    }\n",
              "\n",
              "    .dataframe tbody tr th {\n",
              "        vertical-align: top;\n",
              "    }\n",
              "\n",
              "    .dataframe thead th {\n",
              "        text-align: right;\n",
              "    }\n",
              "</style>\n",
              "<table border=\"1\" class=\"dataframe\">\n",
              "  <thead>\n",
              "    <tr style=\"text-align: right;\">\n",
              "      <th></th>\n",
              "      <th>age</th>\n",
              "      <th>bp</th>\n",
              "      <th>sg</th>\n",
              "      <th>al</th>\n",
              "      <th>su</th>\n",
              "      <th>rbc</th>\n",
              "      <th>pc</th>\n",
              "      <th>pcc</th>\n",
              "      <th>ba</th>\n",
              "      <th>bgr</th>\n",
              "      <th>bu</th>\n",
              "      <th>sc</th>\n",
              "      <th>sod</th>\n",
              "      <th>pot</th>\n",
              "      <th>hemo</th>\n",
              "      <th>pcv</th>\n",
              "      <th>wc</th>\n",
              "      <th>rc</th>\n",
              "      <th>htn</th>\n",
              "      <th>dm</th>\n",
              "      <th>cad</th>\n",
              "      <th>appet</th>\n",
              "      <th>pe</th>\n",
              "      <th>ane</th>\n",
              "      <th>classification</th>\n",
              "    </tr>\n",
              "  </thead>\n",
              "  <tbody>\n",
              "    <tr>\n",
              "      <th>count</th>\n",
              "      <td>391.000000</td>\n",
              "      <td>388.000000</td>\n",
              "      <td>353.000000</td>\n",
              "      <td>354.000000</td>\n",
              "      <td>351.000000</td>\n",
              "      <td>248.000000</td>\n",
              "      <td>335.000000</td>\n",
              "      <td>396.000000</td>\n",
              "      <td>396.000000</td>\n",
              "      <td>356.000000</td>\n",
              "      <td>381.000000</td>\n",
              "      <td>383.000000</td>\n",
              "      <td>313.000000</td>\n",
              "      <td>312.000000</td>\n",
              "      <td>348.000000</td>\n",
              "      <td>329.000000</td>\n",
              "      <td>294.000000</td>\n",
              "      <td>269.000000</td>\n",
              "      <td>398.000000</td>\n",
              "      <td>398.000000</td>\n",
              "      <td>269.000000</td>\n",
              "      <td>399.000000</td>\n",
              "      <td>399.000000</td>\n",
              "      <td>399.000000</td>\n",
              "      <td>400.000000</td>\n",
              "    </tr>\n",
              "    <tr>\n",
              "      <th>mean</th>\n",
              "      <td>51.483376</td>\n",
              "      <td>76.469072</td>\n",
              "      <td>1.017408</td>\n",
              "      <td>1.016949</td>\n",
              "      <td>0.450142</td>\n",
              "      <td>0.189516</td>\n",
              "      <td>0.226866</td>\n",
              "      <td>0.106061</td>\n",
              "      <td>0.055556</td>\n",
              "      <td>148.036517</td>\n",
              "      <td>57.425722</td>\n",
              "      <td>3.072454</td>\n",
              "      <td>137.528754</td>\n",
              "      <td>4.627244</td>\n",
              "      <td>12.526437</td>\n",
              "      <td>38.884498</td>\n",
              "      <td>8406.122449</td>\n",
              "      <td>4.707435</td>\n",
              "      <td>0.369347</td>\n",
              "      <td>0.344221</td>\n",
              "      <td>4.707435</td>\n",
              "      <td>0.794486</td>\n",
              "      <td>0.190476</td>\n",
              "      <td>0.150376</td>\n",
              "      <td>0.625000</td>\n",
              "    </tr>\n",
              "    <tr>\n",
              "      <th>std</th>\n",
              "      <td>17.169714</td>\n",
              "      <td>13.683637</td>\n",
              "      <td>0.005717</td>\n",
              "      <td>1.352679</td>\n",
              "      <td>1.099191</td>\n",
              "      <td>0.392711</td>\n",
              "      <td>0.419431</td>\n",
              "      <td>0.308305</td>\n",
              "      <td>0.229351</td>\n",
              "      <td>79.281714</td>\n",
              "      <td>50.503006</td>\n",
              "      <td>5.741126</td>\n",
              "      <td>10.408752</td>\n",
              "      <td>3.193904</td>\n",
              "      <td>2.912587</td>\n",
              "      <td>8.990105</td>\n",
              "      <td>2944.474190</td>\n",
              "      <td>1.025323</td>\n",
              "      <td>0.483235</td>\n",
              "      <td>0.475712</td>\n",
              "      <td>1.025323</td>\n",
              "      <td>0.404584</td>\n",
              "      <td>0.393170</td>\n",
              "      <td>0.357888</td>\n",
              "      <td>0.484729</td>\n",
              "    </tr>\n",
              "    <tr>\n",
              "      <th>min</th>\n",
              "      <td>2.000000</td>\n",
              "      <td>50.000000</td>\n",
              "      <td>1.005000</td>\n",
              "      <td>0.000000</td>\n",
              "      <td>0.000000</td>\n",
              "      <td>0.000000</td>\n",
              "      <td>0.000000</td>\n",
              "      <td>0.000000</td>\n",
              "      <td>0.000000</td>\n",
              "      <td>22.000000</td>\n",
              "      <td>1.500000</td>\n",
              "      <td>0.400000</td>\n",
              "      <td>4.500000</td>\n",
              "      <td>2.500000</td>\n",
              "      <td>3.100000</td>\n",
              "      <td>9.000000</td>\n",
              "      <td>2200.000000</td>\n",
              "      <td>2.100000</td>\n",
              "      <td>0.000000</td>\n",
              "      <td>0.000000</td>\n",
              "      <td>2.100000</td>\n",
              "      <td>0.000000</td>\n",
              "      <td>0.000000</td>\n",
              "      <td>0.000000</td>\n",
              "      <td>0.000000</td>\n",
              "    </tr>\n",
              "    <tr>\n",
              "      <th>25%</th>\n",
              "      <td>42.000000</td>\n",
              "      <td>70.000000</td>\n",
              "      <td>1.010000</td>\n",
              "      <td>0.000000</td>\n",
              "      <td>0.000000</td>\n",
              "      <td>0.000000</td>\n",
              "      <td>0.000000</td>\n",
              "      <td>0.000000</td>\n",
              "      <td>0.000000</td>\n",
              "      <td>99.000000</td>\n",
              "      <td>27.000000</td>\n",
              "      <td>0.900000</td>\n",
              "      <td>135.000000</td>\n",
              "      <td>3.800000</td>\n",
              "      <td>10.300000</td>\n",
              "      <td>32.000000</td>\n",
              "      <td>6500.000000</td>\n",
              "      <td>3.900000</td>\n",
              "      <td>0.000000</td>\n",
              "      <td>0.000000</td>\n",
              "      <td>3.900000</td>\n",
              "      <td>1.000000</td>\n",
              "      <td>0.000000</td>\n",
              "      <td>0.000000</td>\n",
              "      <td>0.000000</td>\n",
              "    </tr>\n",
              "    <tr>\n",
              "      <th>50%</th>\n",
              "      <td>55.000000</td>\n",
              "      <td>80.000000</td>\n",
              "      <td>1.020000</td>\n",
              "      <td>0.000000</td>\n",
              "      <td>0.000000</td>\n",
              "      <td>0.000000</td>\n",
              "      <td>0.000000</td>\n",
              "      <td>0.000000</td>\n",
              "      <td>0.000000</td>\n",
              "      <td>121.000000</td>\n",
              "      <td>42.000000</td>\n",
              "      <td>1.300000</td>\n",
              "      <td>138.000000</td>\n",
              "      <td>4.400000</td>\n",
              "      <td>12.650000</td>\n",
              "      <td>40.000000</td>\n",
              "      <td>8000.000000</td>\n",
              "      <td>4.800000</td>\n",
              "      <td>0.000000</td>\n",
              "      <td>0.000000</td>\n",
              "      <td>4.800000</td>\n",
              "      <td>1.000000</td>\n",
              "      <td>0.000000</td>\n",
              "      <td>0.000000</td>\n",
              "      <td>1.000000</td>\n",
              "    </tr>\n",
              "    <tr>\n",
              "      <th>75%</th>\n",
              "      <td>64.500000</td>\n",
              "      <td>80.000000</td>\n",
              "      <td>1.020000</td>\n",
              "      <td>2.000000</td>\n",
              "      <td>0.000000</td>\n",
              "      <td>0.000000</td>\n",
              "      <td>0.000000</td>\n",
              "      <td>0.000000</td>\n",
              "      <td>0.000000</td>\n",
              "      <td>163.000000</td>\n",
              "      <td>66.000000</td>\n",
              "      <td>2.800000</td>\n",
              "      <td>142.000000</td>\n",
              "      <td>4.900000</td>\n",
              "      <td>15.000000</td>\n",
              "      <td>45.000000</td>\n",
              "      <td>9800.000000</td>\n",
              "      <td>5.400000</td>\n",
              "      <td>1.000000</td>\n",
              "      <td>1.000000</td>\n",
              "      <td>5.400000</td>\n",
              "      <td>1.000000</td>\n",
              "      <td>0.000000</td>\n",
              "      <td>0.000000</td>\n",
              "      <td>1.000000</td>\n",
              "    </tr>\n",
              "    <tr>\n",
              "      <th>max</th>\n",
              "      <td>90.000000</td>\n",
              "      <td>180.000000</td>\n",
              "      <td>1.025000</td>\n",
              "      <td>5.000000</td>\n",
              "      <td>5.000000</td>\n",
              "      <td>1.000000</td>\n",
              "      <td>1.000000</td>\n",
              "      <td>1.000000</td>\n",
              "      <td>1.000000</td>\n",
              "      <td>490.000000</td>\n",
              "      <td>391.000000</td>\n",
              "      <td>76.000000</td>\n",
              "      <td>163.000000</td>\n",
              "      <td>47.000000</td>\n",
              "      <td>17.800000</td>\n",
              "      <td>54.000000</td>\n",
              "      <td>26400.000000</td>\n",
              "      <td>8.000000</td>\n",
              "      <td>1.000000</td>\n",
              "      <td>1.000000</td>\n",
              "      <td>8.000000</td>\n",
              "      <td>1.000000</td>\n",
              "      <td>1.000000</td>\n",
              "      <td>1.000000</td>\n",
              "      <td>1.000000</td>\n",
              "    </tr>\n",
              "  </tbody>\n",
              "</table>\n",
              "</div>\n",
              "      <button class=\"colab-df-convert\" onclick=\"convertToInteractive('df-235c2603-6278-4915-9530-e473f5f5bf36')\"\n",
              "              title=\"Convert this dataframe to an interactive table.\"\n",
              "              style=\"display:none;\">\n",
              "        \n",
              "  <svg xmlns=\"http://www.w3.org/2000/svg\" height=\"24px\"viewBox=\"0 0 24 24\"\n",
              "       width=\"24px\">\n",
              "    <path d=\"M0 0h24v24H0V0z\" fill=\"none\"/>\n",
              "    <path d=\"M18.56 5.44l.94 2.06.94-2.06 2.06-.94-2.06-.94-.94-2.06-.94 2.06-2.06.94zm-11 1L8.5 8.5l.94-2.06 2.06-.94-2.06-.94L8.5 2.5l-.94 2.06-2.06.94zm10 10l.94 2.06.94-2.06 2.06-.94-2.06-.94-.94-2.06-.94 2.06-2.06.94z\"/><path d=\"M17.41 7.96l-1.37-1.37c-.4-.4-.92-.59-1.43-.59-.52 0-1.04.2-1.43.59L10.3 9.45l-7.72 7.72c-.78.78-.78 2.05 0 2.83L4 21.41c.39.39.9.59 1.41.59.51 0 1.02-.2 1.41-.59l7.78-7.78 2.81-2.81c.8-.78.8-2.07 0-2.86zM5.41 20L4 18.59l7.72-7.72 1.47 1.35L5.41 20z\"/>\n",
              "  </svg>\n",
              "      </button>\n",
              "      \n",
              "  <style>\n",
              "    .colab-df-container {\n",
              "      display:flex;\n",
              "      flex-wrap:wrap;\n",
              "      gap: 12px;\n",
              "    }\n",
              "\n",
              "    .colab-df-convert {\n",
              "      background-color: #E8F0FE;\n",
              "      border: none;\n",
              "      border-radius: 50%;\n",
              "      cursor: pointer;\n",
              "      display: none;\n",
              "      fill: #1967D2;\n",
              "      height: 32px;\n",
              "      padding: 0 0 0 0;\n",
              "      width: 32px;\n",
              "    }\n",
              "\n",
              "    .colab-df-convert:hover {\n",
              "      background-color: #E2EBFA;\n",
              "      box-shadow: 0px 1px 2px rgba(60, 64, 67, 0.3), 0px 1px 3px 1px rgba(60, 64, 67, 0.15);\n",
              "      fill: #174EA6;\n",
              "    }\n",
              "\n",
              "    [theme=dark] .colab-df-convert {\n",
              "      background-color: #3B4455;\n",
              "      fill: #D2E3FC;\n",
              "    }\n",
              "\n",
              "    [theme=dark] .colab-df-convert:hover {\n",
              "      background-color: #434B5C;\n",
              "      box-shadow: 0px 1px 3px 1px rgba(0, 0, 0, 0.15);\n",
              "      filter: drop-shadow(0px 1px 2px rgba(0, 0, 0, 0.3));\n",
              "      fill: #FFFFFF;\n",
              "    }\n",
              "  </style>\n",
              "\n",
              "      <script>\n",
              "        const buttonEl =\n",
              "          document.querySelector('#df-235c2603-6278-4915-9530-e473f5f5bf36 button.colab-df-convert');\n",
              "        buttonEl.style.display =\n",
              "          google.colab.kernel.accessAllowed ? 'block' : 'none';\n",
              "\n",
              "        async function convertToInteractive(key) {\n",
              "          const element = document.querySelector('#df-235c2603-6278-4915-9530-e473f5f5bf36');\n",
              "          const dataTable =\n",
              "            await google.colab.kernel.invokeFunction('convertToInteractive',\n",
              "                                                     [key], {});\n",
              "          if (!dataTable) return;\n",
              "\n",
              "          const docLinkHtml = 'Like what you see? Visit the ' +\n",
              "            '<a target=\"_blank\" href=https://colab.research.google.com/notebooks/data_table.ipynb>data table notebook</a>'\n",
              "            + ' to learn more about interactive tables.';\n",
              "          element.innerHTML = '';\n",
              "          dataTable['output_type'] = 'display_data';\n",
              "          await google.colab.output.renderOutput(dataTable, element);\n",
              "          const docLink = document.createElement('div');\n",
              "          docLink.innerHTML = docLinkHtml;\n",
              "          element.appendChild(docLink);\n",
              "        }\n",
              "      </script>\n",
              "    </div>\n",
              "  </div>\n",
              "  "
            ],
            "text/plain": [
              "              age          bp  ...         ane  classification\n",
              "count  391.000000  388.000000  ...  399.000000      400.000000\n",
              "mean    51.483376   76.469072  ...    0.150376        0.625000\n",
              "std     17.169714   13.683637  ...    0.357888        0.484729\n",
              "min      2.000000   50.000000  ...    0.000000        0.000000\n",
              "25%     42.000000   70.000000  ...    0.000000        0.000000\n",
              "50%     55.000000   80.000000  ...    0.000000        1.000000\n",
              "75%     64.500000   80.000000  ...    0.000000        1.000000\n",
              "max     90.000000  180.000000  ...    1.000000        1.000000\n",
              "\n",
              "[8 rows x 25 columns]"
            ]
          },
          "metadata": {},
          "execution_count": 62
        }
      ],
      "source": [
        "# Estatística Descritiva das variáveis:\n",
        "dataset.describe()"
      ]
    },
    {
      "cell_type": "code",
      "execution_count": 63,
      "metadata": {
        "id": "3CKfey7W52mp",
        "colab": {
          "base_uri": "https://localhost:8080/"
        },
        "outputId": "e079db93-f6d3-4f66-9bce-4b4110ddcbcf"
      },
      "outputs": [
        {
          "output_type": "execute_result",
          "data": {
            "text/plain": [
              "rbc               152\n",
              "cad               131\n",
              "rc                131\n",
              "wc                106\n",
              "pot                88\n",
              "sod                87\n",
              "pcv                71\n",
              "pc                 65\n",
              "hemo               52\n",
              "su                 49\n",
              "sg                 47\n",
              "al                 46\n",
              "bgr                44\n",
              "bu                 19\n",
              "sc                 17\n",
              "bp                 12\n",
              "age                 9\n",
              "ba                  4\n",
              "pcc                 4\n",
              "htn                 2\n",
              "dm                  2\n",
              "appet               1\n",
              "pe                  1\n",
              "ane                 1\n",
              "classification      0\n",
              "dtype: int64"
            ]
          },
          "metadata": {},
          "execution_count": 63
        }
      ],
      "source": [
        "# Cheaking Missing (NaN) Values:\n",
        "dataset.isnull().sum().sort_values(ascending=False)"
      ]
    },
    {
      "cell_type": "markdown",
      "metadata": {
        "id": "V915uiKL52mq"
      },
      "source": [
        "### 3.3 - Substituição/eliminação (ou também conhecido como imputação) de valores ausentes(missings):"
      ]
    },
    {
      "cell_type": "markdown",
      "metadata": {
        "id": "Wf6d11Sz52mq"
      },
      "source": [
        "- Nós iremos fazer a imputação pela mediana. Poderia ser pela média, moda, poderia eliminar....Decisão do Cientista de Dados"
      ]
    },
    {
      "cell_type": "code",
      "execution_count": 64,
      "metadata": {
        "colab": {
          "base_uri": "https://localhost:8080/"
        },
        "id": "pw5ka1y352mq",
        "outputId": "215af2f1-a783-43cb-e544-e95a76ca764b"
      },
      "outputs": [
        {
          "output_type": "execute_result",
          "data": {
            "text/plain": [
              "Index(['age', 'bp', 'sg', 'al', 'su', 'rbc', 'pc', 'pcc', 'ba', 'bgr', 'bu',\n",
              "       'sc', 'sod', 'pot', 'hemo', 'pcv', 'wc', 'rc', 'htn', 'dm', 'cad',\n",
              "       'appet', 'pe', 'ane', 'classification'],\n",
              "      dtype='object')"
            ]
          },
          "metadata": {},
          "execution_count": 64
        }
      ],
      "source": [
        "# Verificando a lista de Colunas\n",
        "dataset.columns"
      ]
    },
    {
      "cell_type": "code",
      "execution_count": 65,
      "metadata": {
        "id": "KHXD_ywB52mq"
      },
      "outputs": [],
      "source": [
        "#Criando uma lista com o nome das Colunas para usar na substituição de missings)\n",
        "features = ['age', 'bp', 'sg', 'al', 'su', 'rbc', 'pc', 'pcc', 'ba', 'bgr', 'bu',\n",
        "           'sc', 'sod', 'pot', 'hemo', 'pcv', 'wc', 'rc', 'htn', 'dm', 'cad',\n",
        "           'appet', 'pe', 'ane']"
      ]
    },
    {
      "cell_type": "code",
      "execution_count": 66,
      "metadata": {
        "id": "bi6dTJRN52mq"
      },
      "outputs": [],
      "source": [
        "# Função utilizada para varrer (loop) as colunas e a cada valor missing encontrado,\n",
        "# ele será substituído pela median \n",
        "for feature in features:\n",
        "    dataset[feature] = dataset[feature].fillna(dataset[feature].median())"
      ]
    },
    {
      "cell_type": "code",
      "execution_count": 67,
      "metadata": {
        "id": "vhpe6mco52mq",
        "colab": {
          "base_uri": "https://localhost:8080/"
        },
        "outputId": "6913ac1a-ba8d-4f87-f296-21d8fdb8a7c2"
      },
      "outputs": [
        {
          "output_type": "execute_result",
          "data": {
            "text/plain": [
              "0"
            ]
          },
          "metadata": {},
          "execution_count": 67
        }
      ],
      "source": [
        "# Confere se ainda persiste valor missing\n",
        "dataset.isnull().any().sum()"
      ]
    },
    {
      "cell_type": "markdown",
      "metadata": {
        "id": "xvhCRQJ_52mr"
      },
      "source": [
        "### 3.4 - Heatmap - Mapa que verifica correlação entre as variáveis"
      ]
    },
    {
      "cell_type": "code",
      "execution_count": 68,
      "metadata": {
        "id": "Ts4qsq-m52mr",
        "colab": {
          "base_uri": "https://localhost:8080/",
          "height": 0
        },
        "outputId": "a34bfe72-5bab-42c0-a703-eb34f8ee44f5"
      },
      "outputs": [
        {
          "output_type": "display_data",
          "data": {
            "image/png": "[encoded data removed]",
            "text/plain": [
              "<Figure size 1728x1008 with 2 Axes>"
            ]
          },
          "metadata": {
            "needs_background": "light"
          }
        }
      ],
      "source": [
        "# Criação da Figura Gráfica\n",
        "plt.figure(figsize=(24,14))\n",
        "# Criação do Gráfico heatmap\n",
        "sns.heatmap(dataset.corr(), annot=True, cmap='YlGnBu')\n",
        "plt.show()\n"
      ]
    },
    {
      "cell_type": "markdown",
      "metadata": {
        "id": "WSyZX6Uf52mr"
      },
      "source": [
        "- Vemos claramente que a variável 'pcv' and 'hemo' podem nos dar um problema chamado **85% multicollinearity** \n",
        "- Para resolver esse problema, vamos eliminar uma delas: a **pcv**"
      ]
    },
    {
      "cell_type": "code",
      "execution_count": 69,
      "metadata": {
        "id": "Tf9OWDzW52mr"
      },
      "outputs": [],
      "source": [
        "# Elimionando a 'pcv'\n",
        "dataset.drop('pcv', axis=1, inplace=True)"
      ]
    },
    {
      "cell_type": "code",
      "execution_count": 70,
      "metadata": {
        "id": "4jhRwsn052mr",
        "colab": {
          "base_uri": "https://localhost:8080/",
          "height": 0
        },
        "outputId": "123d4ffc-ed9c-4dc8-f0bb-cb5269f59772"
      },
      "outputs": [
        {
          "output_type": "execute_result",
          "data": {
            "text/html": [
              "\n",
              "  <div id=\"df-e03c41d1-c47e-4994-adf5-a5a17fa67d6a\">\n",
              "    <div class=\"colab-df-container\">\n",
              "      <div>\n",
              "<style scoped>\n",
              "    .dataframe tbody tr th:only-of-type {\n",
              "        vertical-align: middle;\n",
              "    }\n",
              "\n",
              "    .dataframe tbody tr th {\n",
              "        vertical-align: top;\n",
              "    }\n",
              "\n",
              "    .dataframe thead th {\n",
              "        text-align: right;\n",
              "    }\n",
              "</style>\n",
              "<table border=\"1\" class=\"dataframe\">\n",
              "  <thead>\n",
              "    <tr style=\"text-align: right;\">\n",
              "      <th></th>\n",
              "      <th>age</th>\n",
              "      <th>bp</th>\n",
              "      <th>sg</th>\n",
              "      <th>al</th>\n",
              "      <th>su</th>\n",
              "      <th>rbc</th>\n",
              "      <th>pc</th>\n",
              "      <th>pcc</th>\n",
              "      <th>ba</th>\n",
              "      <th>bgr</th>\n",
              "      <th>bu</th>\n",
              "      <th>sc</th>\n",
              "      <th>sod</th>\n",
              "      <th>pot</th>\n",
              "      <th>hemo</th>\n",
              "      <th>wc</th>\n",
              "      <th>rc</th>\n",
              "      <th>htn</th>\n",
              "      <th>dm</th>\n",
              "      <th>cad</th>\n",
              "      <th>appet</th>\n",
              "      <th>pe</th>\n",
              "      <th>ane</th>\n",
              "      <th>classification</th>\n",
              "    </tr>\n",
              "  </thead>\n",
              "  <tbody>\n",
              "    <tr>\n",
              "      <th>0</th>\n",
              "      <td>48.0</td>\n",
              "      <td>80.0</td>\n",
              "      <td>1.020</td>\n",
              "      <td>1.0</td>\n",
              "      <td>0.0</td>\n",
              "      <td>0.0</td>\n",
              "      <td>0.0</td>\n",
              "      <td>0.0</td>\n",
              "      <td>0.0</td>\n",
              "      <td>121.0</td>\n",
              "      <td>36.0</td>\n",
              "      <td>1.2</td>\n",
              "      <td>138.0</td>\n",
              "      <td>4.4</td>\n",
              "      <td>15.4</td>\n",
              "      <td>7800.0</td>\n",
              "      <td>5.2</td>\n",
              "      <td>1.0</td>\n",
              "      <td>1.0</td>\n",
              "      <td>5.2</td>\n",
              "      <td>1.0</td>\n",
              "      <td>0.0</td>\n",
              "      <td>0.0</td>\n",
              "      <td>1</td>\n",
              "    </tr>\n",
              "    <tr>\n",
              "      <th>1</th>\n",
              "      <td>7.0</td>\n",
              "      <td>50.0</td>\n",
              "      <td>1.020</td>\n",
              "      <td>4.0</td>\n",
              "      <td>0.0</td>\n",
              "      <td>0.0</td>\n",
              "      <td>0.0</td>\n",
              "      <td>0.0</td>\n",
              "      <td>0.0</td>\n",
              "      <td>121.0</td>\n",
              "      <td>18.0</td>\n",
              "      <td>0.8</td>\n",
              "      <td>138.0</td>\n",
              "      <td>4.4</td>\n",
              "      <td>11.3</td>\n",
              "      <td>6000.0</td>\n",
              "      <td>4.8</td>\n",
              "      <td>0.0</td>\n",
              "      <td>0.0</td>\n",
              "      <td>4.8</td>\n",
              "      <td>1.0</td>\n",
              "      <td>0.0</td>\n",
              "      <td>0.0</td>\n",
              "      <td>1</td>\n",
              "    </tr>\n",
              "    <tr>\n",
              "      <th>2</th>\n",
              "      <td>62.0</td>\n",
              "      <td>80.0</td>\n",
              "      <td>1.010</td>\n",
              "      <td>2.0</td>\n",
              "      <td>3.0</td>\n",
              "      <td>0.0</td>\n",
              "      <td>0.0</td>\n",
              "      <td>0.0</td>\n",
              "      <td>0.0</td>\n",
              "      <td>423.0</td>\n",
              "      <td>53.0</td>\n",
              "      <td>1.8</td>\n",
              "      <td>138.0</td>\n",
              "      <td>4.4</td>\n",
              "      <td>9.6</td>\n",
              "      <td>7500.0</td>\n",
              "      <td>4.8</td>\n",
              "      <td>0.0</td>\n",
              "      <td>1.0</td>\n",
              "      <td>4.8</td>\n",
              "      <td>0.0</td>\n",
              "      <td>0.0</td>\n",
              "      <td>1.0</td>\n",
              "      <td>1</td>\n",
              "    </tr>\n",
              "    <tr>\n",
              "      <th>3</th>\n",
              "      <td>48.0</td>\n",
              "      <td>70.0</td>\n",
              "      <td>1.005</td>\n",
              "      <td>4.0</td>\n",
              "      <td>0.0</td>\n",
              "      <td>0.0</td>\n",
              "      <td>1.0</td>\n",
              "      <td>1.0</td>\n",
              "      <td>0.0</td>\n",
              "      <td>117.0</td>\n",
              "      <td>56.0</td>\n",
              "      <td>3.8</td>\n",
              "      <td>111.0</td>\n",
              "      <td>2.5</td>\n",
              "      <td>11.2</td>\n",
              "      <td>6700.0</td>\n",
              "      <td>3.9</td>\n",
              "      <td>1.0</td>\n",
              "      <td>0.0</td>\n",
              "      <td>3.9</td>\n",
              "      <td>0.0</td>\n",
              "      <td>1.0</td>\n",
              "      <td>1.0</td>\n",
              "      <td>1</td>\n",
              "    </tr>\n",
              "    <tr>\n",
              "      <th>4</th>\n",
              "      <td>51.0</td>\n",
              "      <td>80.0</td>\n",
              "      <td>1.010</td>\n",
              "      <td>2.0</td>\n",
              "      <td>0.0</td>\n",
              "      <td>0.0</td>\n",
              "      <td>0.0</td>\n",
              "      <td>0.0</td>\n",
              "      <td>0.0</td>\n",
              "      <td>106.0</td>\n",
              "      <td>26.0</td>\n",
              "      <td>1.4</td>\n",
              "      <td>138.0</td>\n",
              "      <td>4.4</td>\n",
              "      <td>11.6</td>\n",
              "      <td>7300.0</td>\n",
              "      <td>4.6</td>\n",
              "      <td>0.0</td>\n",
              "      <td>0.0</td>\n",
              "      <td>4.6</td>\n",
              "      <td>1.0</td>\n",
              "      <td>0.0</td>\n",
              "      <td>0.0</td>\n",
              "      <td>1</td>\n",
              "    </tr>\n",
              "  </tbody>\n",
              "</table>\n",
              "</div>\n",
              "      <button class=\"colab-df-convert\" onclick=\"convertToInteractive('df-e03c41d1-c47e-4994-adf5-a5a17fa67d6a')\"\n",
              "              title=\"Convert this dataframe to an interactive table.\"\n",
              "              style=\"display:none;\">\n",
              "        \n",
              "  <svg xmlns=\"http://www.w3.org/2000/svg\" height=\"24px\"viewBox=\"0 0 24 24\"\n",
              "       width=\"24px\">\n",
              "    <path d=\"M0 0h24v24H0V0z\" fill=\"none\"/>\n",
              "    <path d=\"M18.56 5.44l.94 2.06.94-2.06 2.06-.94-2.06-.94-.94-2.06-.94 2.06-2.06.94zm-11 1L8.5 8.5l.94-2.06 2.06-.94-2.06-.94L8.5 2.5l-.94 2.06-2.06.94zm10 10l.94 2.06.94-2.06 2.06-.94-2.06-.94-.94-2.06-.94 2.06-2.06.94z\"/><path d=\"M17.41 7.96l-1.37-1.37c-.4-.4-.92-.59-1.43-.59-.52 0-1.04.2-1.43.59L10.3 9.45l-7.72 7.72c-.78.78-.78 2.05 0 2.83L4 21.41c.39.39.9.59 1.41.59.51 0 1.02-.2 1.41-.59l7.78-7.78 2.81-2.81c.8-.78.8-2.07 0-2.86zM5.41 20L4 18.59l7.72-7.72 1.47 1.35L5.41 20z\"/>\n",
              "  </svg>\n",
              "      </button>\n",
              "      \n",
              "  <style>\n",
              "    .colab-df-container {\n",
              "      display:flex;\n",
              "      flex-wrap:wrap;\n",
              "      gap: 12px;\n",
              "    }\n",
              "\n",
              "    .colab-df-convert {\n",
              "      background-color: #E8F0FE;\n",
              "      border: none;\n",
              "      border-radius: 50%;\n",
              "      cursor: pointer;\n",
              "      display: none;\n",
              "      fill: #1967D2;\n",
              "      height: 32px;\n",
              "      padding: 0 0 0 0;\n",
              "      width: 32px;\n",
              "    }\n",
              "\n",
              "    .colab-df-convert:hover {\n",
              "      background-color: #E2EBFA;\n",
              "      box-shadow: 0px 1px 2px rgba(60, 64, 67, 0.3), 0px 1px 3px 1px rgba(60, 64, 67, 0.15);\n",
              "      fill: #174EA6;\n",
              "    }\n",
              "\n",
              "    [theme=dark] .colab-df-convert {\n",
              "      background-color: #3B4455;\n",
              "      fill: #D2E3FC;\n",
              "    }\n",
              "\n",
              "    [theme=dark] .colab-df-convert:hover {\n",
              "      background-color: #434B5C;\n",
              "      box-shadow: 0px 1px 3px 1px rgba(0, 0, 0, 0.15);\n",
              "      filter: drop-shadow(0px 1px 2px rgba(0, 0, 0, 0.3));\n",
              "      fill: #FFFFFF;\n",
              "    }\n",
              "  </style>\n",
              "\n",
              "      <script>\n",
              "        const buttonEl =\n",
              "          document.querySelector('#df-e03c41d1-c47e-4994-adf5-a5a17fa67d6a button.colab-df-convert');\n",
              "        buttonEl.style.display =\n",
              "          google.colab.kernel.accessAllowed ? 'block' : 'none';\n",
              "\n",
              "        async function convertToInteractive(key) {\n",
              "          const element = document.querySelector('#df-e03c41d1-c47e-4994-adf5-a5a17fa67d6a');\n",
              "          const dataTable =\n",
              "            await google.colab.kernel.invokeFunction('convertToInteractive',\n",
              "                                                     [key], {});\n",
              "          if (!dataTable) return;\n",
              "\n",
              "          const docLinkHtml = 'Like what you see? Visit the ' +\n",
              "            '<a target=\"_blank\" href=https://colab.research.google.com/notebooks/data_table.ipynb>data table notebook</a>'\n",
              "            + ' to learn more about interactive tables.';\n",
              "          element.innerHTML = '';\n",
              "          dataTable['output_type'] = 'display_data';\n",
              "          await google.colab.output.renderOutput(dataTable, element);\n",
              "          const docLink = document.createElement('div');\n",
              "          docLink.innerHTML = docLinkHtml;\n",
              "          element.appendChild(docLink);\n",
              "        }\n",
              "      </script>\n",
              "    </div>\n",
              "  </div>\n",
              "  "
            ],
            "text/plain": [
              "    age    bp     sg   al   su  rbc  ...   dm  cad  appet   pe  ane  classification\n",
              "0  48.0  80.0  1.020  1.0  0.0  0.0  ...  1.0  5.2    1.0  0.0  0.0               1\n",
              "1   7.0  50.0  1.020  4.0  0.0  0.0  ...  0.0  4.8    1.0  0.0  0.0               1\n",
              "2  62.0  80.0  1.010  2.0  3.0  0.0  ...  1.0  4.8    0.0  0.0  1.0               1\n",
              "3  48.0  70.0  1.005  4.0  0.0  0.0  ...  0.0  3.9    0.0  1.0  1.0               1\n",
              "4  51.0  80.0  1.010  2.0  0.0  0.0  ...  0.0  4.6    1.0  0.0  0.0               1\n",
              "\n",
              "[5 rows x 24 columns]"
            ]
          },
          "metadata": {},
          "execution_count": 70
        }
      ],
      "source": [
        "# Visualizando os Primeiros Registros\n",
        "dataset.head()"
      ]
    },
    {
      "cell_type": "code",
      "execution_count": 71,
      "metadata": {
        "id": "eRwDnuZS52mr",
        "colab": {
          "base_uri": "https://localhost:8080/",
          "height": 0
        },
        "outputId": "6c29f62d-a8a4-4cc6-fb04-b062d0257b29"
      },
      "outputs": [
        {
          "output_type": "execute_result",
          "data": {
            "text/plain": [
              "<matplotlib.axes._subplots.AxesSubplot at 0x7f72fefb8ad0>"
            ]
          },
          "metadata": {},
          "execution_count": 71
        },
        {
          "output_type": "display_data",
          "data": {
            "image/png": "[encoded data removed]",
            "text/plain": [
              "<Figure size 432x288 with 1 Axes>"
            ]
          },
          "metadata": {
            "needs_background": "light"
          }
        }
      ],
      "source": [
        "# Visualizando o Target:\n",
        "sns.countplot(dataset['classification'],saturation=0.95 )"
      ]
    },
    {
      "cell_type": "markdown",
      "source": [
        "### 3.5 - Separação/split das Variáveis explicativas (X) e o Target (y) para treinamento do algoritmo na Máquina Preditiva"
      ],
      "metadata": {
        "id": "QMSy2Uw_HsOq"
      }
    },
    {
      "cell_type": "code",
      "execution_count": 72,
      "metadata": {
        "id": "3C7fEifz52mr"
      },
      "outputs": [],
      "source": [
        "# Independent and Dependent Feature:\n",
        "X = dataset.iloc[:, :-1]\n",
        "y = dataset.iloc[:, -1]"
      ]
    },
    {
      "cell_type": "code",
      "execution_count": 73,
      "metadata": {
        "id": "G93WnZgK52ms",
        "colab": {
          "base_uri": "https://localhost:8080/"
        },
        "outputId": "a4753b53-6d44-4c5d-9b4b-197be149f630"
      },
      "outputs": [
        {
          "output_type": "execute_result",
          "data": {
            "text/plain": [
              "0    1\n",
              "1    1\n",
              "2    1\n",
              "3    1\n",
              "4    1\n",
              "Name: classification, dtype: int64"
            ]
          },
          "metadata": {},
          "execution_count": 73
        }
      ],
      "source": [
        "y.head()"
      ]
    },
    {
      "cell_type": "markdown",
      "source": [
        "\n",
        "# <font color='Black'> **Construindo a Máquina Preditiva com Machine Learning** </font>\n"
      ],
      "metadata": {
        "id": "qVv88_p-JPRM"
      }
    },
    {
      "cell_type": "markdown",
      "source": [
        "![](https://i.pinimg.com/originals/f2/8b/62/f28b62e3c73e0991d51e6c0dcb412360.gif)"
      ],
      "metadata": {
        "id": "W9vxem8CJ40m"
      }
    },
    {
      "cell_type": "markdown",
      "source": [
        "## 4° - Construção e Avaliação da Máquina Preditiva"
      ],
      "metadata": {
        "id": "seCoCIsFJi2o"
      }
    },
    {
      "cell_type": "markdown",
      "source": [
        "### 4.0 - Descobrindo quais são as melhores variáveis"
      ],
      "metadata": {
        "id": "56naA_1IO3eF"
      }
    },
    {
      "cell_type": "code",
      "execution_count": 74,
      "metadata": {
        "scrolled": true,
        "id": "CW2rYQyY52ms"
      },
      "outputs": [],
      "source": [
        "# Verificando quais Features são as mais Importantes:\n",
        "from sklearn.ensemble import ExtraTreesClassifier\n",
        "import matplotlib.pyplot as plt\n"
      ]
    },
    {
      "cell_type": "code",
      "source": [
        "# Usando o ExtraTree  para nos mostrar as Variáveis mais Importantes\n",
        "model=ExtraTreesClassifier()\n",
        "model.fit(X,y)\n",
        "\n",
        "plt.figure(figsize=(8,6))\n",
        "ranked_features=pd.Series(model.feature_importances_,index=X.columns)\n",
        "ranked_features.nlargest(24).plot(kind='barh')\n",
        "plt.show()"
      ],
      "metadata": {
        "colab": {
          "base_uri": "https://localhost:8080/",
          "height": 374
        },
        "id": "g4aThGD0Jugb",
        "outputId": "b59f6bb7-b0ac-4fcb-ac96-2b21e046c54c"
      },
      "execution_count": 75,
      "outputs": [
        {
          "output_type": "display_data",
          "data": {
            "image/png": "[encoded data removed]",
            "text/plain": [
              "<Figure size 576x432 with 1 Axes>"
            ]
          },
          "metadata": {
            "needs_background": "light"
          }
        }
      ]
    },
    {
      "cell_type": "markdown",
      "metadata": {
        "id": "GKUZ4lyK52ms"
      },
      "source": [
        "- Vamos construir nosso modelo baseline/ inicial somente com as 8 variáveis mais importantes."
      ]
    },
    {
      "cell_type": "code",
      "execution_count": 76,
      "metadata": {
        "id": "cZfYymtB52ms",
        "colab": {
          "base_uri": "https://localhost:8080/"
        },
        "outputId": "f61b3c51-c56a-4e21-cd93-ff5a878397fa"
      },
      "outputs": [
        {
          "output_type": "execute_result",
          "data": {
            "text/plain": [
              "Index(['sg', 'htn', 'dm', 'hemo', 'al', 'appet', 'cad', 'pc'], dtype='object')"
            ]
          },
          "metadata": {},
          "execution_count": 76
        }
      ],
      "source": [
        "#Função para ranquear as 8 mais importantes\n",
        "ranked_features.nlargest(8).index"
      ]
    },
    {
      "cell_type": "markdown",
      "source": [
        "### 4.1 - Separando as 8 melhores variáveis para a Máquina Preditiva"
      ],
      "metadata": {
        "id": "ipJ0eeUmOhl7"
      }
    },
    {
      "cell_type": "code",
      "execution_count": 77,
      "metadata": {
        "id": "0ovERqbf52ms",
        "colab": {
          "base_uri": "https://localhost:8080/",
          "height": 0
        },
        "outputId": "163f084a-c032-4c30-a970-c3dbd0520a53"
      },
      "outputs": [
        {
          "output_type": "execute_result",
          "data": {
            "text/html": [
              "\n",
              "  <div id=\"df-ab956ac3-e513-4e4f-b948-670b1367d768\">\n",
              "    <div class=\"colab-df-container\">\n",
              "      <div>\n",
              "<style scoped>\n",
              "    .dataframe tbody tr th:only-of-type {\n",
              "        vertical-align: middle;\n",
              "    }\n",
              "\n",
              "    .dataframe tbody tr th {\n",
              "        vertical-align: top;\n",
              "    }\n",
              "\n",
              "    .dataframe thead th {\n",
              "        text-align: right;\n",
              "    }\n",
              "</style>\n",
              "<table border=\"1\" class=\"dataframe\">\n",
              "  <thead>\n",
              "    <tr style=\"text-align: right;\">\n",
              "      <th></th>\n",
              "      <th>sg</th>\n",
              "      <th>htn</th>\n",
              "      <th>hemo</th>\n",
              "      <th>dm</th>\n",
              "      <th>al</th>\n",
              "      <th>appet</th>\n",
              "      <th>rc</th>\n",
              "      <th>pc</th>\n",
              "    </tr>\n",
              "  </thead>\n",
              "  <tbody>\n",
              "    <tr>\n",
              "      <th>0</th>\n",
              "      <td>1.020</td>\n",
              "      <td>1.0</td>\n",
              "      <td>15.4</td>\n",
              "      <td>1.0</td>\n",
              "      <td>1.0</td>\n",
              "      <td>1.0</td>\n",
              "      <td>5.2</td>\n",
              "      <td>0.0</td>\n",
              "    </tr>\n",
              "    <tr>\n",
              "      <th>1</th>\n",
              "      <td>1.020</td>\n",
              "      <td>0.0</td>\n",
              "      <td>11.3</td>\n",
              "      <td>0.0</td>\n",
              "      <td>4.0</td>\n",
              "      <td>1.0</td>\n",
              "      <td>4.8</td>\n",
              "      <td>0.0</td>\n",
              "    </tr>\n",
              "    <tr>\n",
              "      <th>2</th>\n",
              "      <td>1.010</td>\n",
              "      <td>0.0</td>\n",
              "      <td>9.6</td>\n",
              "      <td>1.0</td>\n",
              "      <td>2.0</td>\n",
              "      <td>0.0</td>\n",
              "      <td>4.8</td>\n",
              "      <td>0.0</td>\n",
              "    </tr>\n",
              "    <tr>\n",
              "      <th>3</th>\n",
              "      <td>1.005</td>\n",
              "      <td>1.0</td>\n",
              "      <td>11.2</td>\n",
              "      <td>0.0</td>\n",
              "      <td>4.0</td>\n",
              "      <td>0.0</td>\n",
              "      <td>3.9</td>\n",
              "      <td>1.0</td>\n",
              "    </tr>\n",
              "    <tr>\n",
              "      <th>4</th>\n",
              "      <td>1.010</td>\n",
              "      <td>0.0</td>\n",
              "      <td>11.6</td>\n",
              "      <td>0.0</td>\n",
              "      <td>2.0</td>\n",
              "      <td>1.0</td>\n",
              "      <td>4.6</td>\n",
              "      <td>0.0</td>\n",
              "    </tr>\n",
              "  </tbody>\n",
              "</table>\n",
              "</div>\n",
              "      <button class=\"colab-df-convert\" onclick=\"convertToInteractive('df-ab956ac3-e513-4e4f-b948-670b1367d768')\"\n",
              "              title=\"Convert this dataframe to an interactive table.\"\n",
              "              style=\"display:none;\">\n",
              "        \n",
              "  <svg xmlns=\"http://www.w3.org/2000/svg\" height=\"24px\"viewBox=\"0 0 24 24\"\n",
              "       width=\"24px\">\n",
              "    <path d=\"M0 0h24v24H0V0z\" fill=\"none\"/>\n",
              "    <path d=\"M18.56 5.44l.94 2.06.94-2.06 2.06-.94-2.06-.94-.94-2.06-.94 2.06-2.06.94zm-11 1L8.5 8.5l.94-2.06 2.06-.94-2.06-.94L8.5 2.5l-.94 2.06-2.06.94zm10 10l.94 2.06.94-2.06 2.06-.94-2.06-.94-.94-2.06-.94 2.06-2.06.94z\"/><path d=\"M17.41 7.96l-1.37-1.37c-.4-.4-.92-.59-1.43-.59-.52 0-1.04.2-1.43.59L10.3 9.45l-7.72 7.72c-.78.78-.78 2.05 0 2.83L4 21.41c.39.39.9.59 1.41.59.51 0 1.02-.2 1.41-.59l7.78-7.78 2.81-2.81c.8-.78.8-2.07 0-2.86zM5.41 20L4 18.59l7.72-7.72 1.47 1.35L5.41 20z\"/>\n",
              "  </svg>\n",
              "      </button>\n",
              "      \n",
              "  <style>\n",
              "    .colab-df-container {\n",
              "      display:flex;\n",
              "      flex-wrap:wrap;\n",
              "      gap: 12px;\n",
              "    }\n",
              "\n",
              "    .colab-df-convert {\n",
              "      background-color: #E8F0FE;\n",
              "      border: none;\n",
              "      border-radius: 50%;\n",
              "      cursor: pointer;\n",
              "      display: none;\n",
              "      fill: #1967D2;\n",
              "      height: 32px;\n",
              "      padding: 0 0 0 0;\n",
              "      width: 32px;\n",
              "    }\n",
              "\n",
              "    .colab-df-convert:hover {\n",
              "      background-color: #E2EBFA;\n",
              "      box-shadow: 0px 1px 2px rgba(60, 64, 67, 0.3), 0px 1px 3px 1px rgba(60, 64, 67, 0.15);\n",
              "      fill: #174EA6;\n",
              "    }\n",
              "\n",
              "    [theme=dark] .colab-df-convert {\n",
              "      background-color: #3B4455;\n",
              "      fill: #D2E3FC;\n",
              "    }\n",
              "\n",
              "    [theme=dark] .colab-df-convert:hover {\n",
              "      background-color: #434B5C;\n",
              "      box-shadow: 0px 1px 3px 1px rgba(0, 0, 0, 0.15);\n",
              "      filter: drop-shadow(0px 1px 2px rgba(0, 0, 0, 0.3));\n",
              "      fill: #FFFFFF;\n",
              "    }\n",
              "  </style>\n",
              "\n",
              "      <script>\n",
              "        const buttonEl =\n",
              "          document.querySelector('#df-ab956ac3-e513-4e4f-b948-670b1367d768 button.colab-df-convert');\n",
              "        buttonEl.style.display =\n",
              "          google.colab.kernel.accessAllowed ? 'block' : 'none';\n",
              "\n",
              "        async function convertToInteractive(key) {\n",
              "          const element = document.querySelector('#df-ab956ac3-e513-4e4f-b948-670b1367d768');\n",
              "          const dataTable =\n",
              "            await google.colab.kernel.invokeFunction('convertToInteractive',\n",
              "                                                     [key], {});\n",
              "          if (!dataTable) return;\n",
              "\n",
              "          const docLinkHtml = 'Like what you see? Visit the ' +\n",
              "            '<a target=\"_blank\" href=https://colab.research.google.com/notebooks/data_table.ipynb>data table notebook</a>'\n",
              "            + ' to learn more about interactive tables.';\n",
              "          element.innerHTML = '';\n",
              "          dataTable['output_type'] = 'display_data';\n",
              "          await google.colab.output.renderOutput(dataTable, element);\n",
              "          const docLink = document.createElement('div');\n",
              "          docLink.innerHTML = docLinkHtml;\n",
              "          element.appendChild(docLink);\n",
              "        }\n",
              "      </script>\n",
              "    </div>\n",
              "  </div>\n",
              "  "
            ],
            "text/plain": [
              "      sg  htn  hemo   dm   al  appet   rc   pc\n",
              "0  1.020  1.0  15.4  1.0  1.0    1.0  5.2  0.0\n",
              "1  1.020  0.0  11.3  0.0  4.0    1.0  4.8  0.0\n",
              "2  1.010  0.0   9.6  1.0  2.0    0.0  4.8  0.0\n",
              "3  1.005  1.0  11.2  0.0  4.0    0.0  3.9  1.0\n",
              "4  1.010  0.0  11.6  0.0  2.0    1.0  4.6  0.0"
            ]
          },
          "metadata": {},
          "execution_count": 77
        }
      ],
      "source": [
        "# Separando as 8 variáveis mais importantes em \"X\" para que o algoritmo treine com esses dados\n",
        "X = dataset[['sg', 'htn', 'hemo', 'dm', 'al', 'appet', 'rc', 'pc']]\n",
        "#X = dataset[['sg', 'dm', 'htn', 'hemo']]\n",
        "X.head()"
      ]
    },
    {
      "cell_type": "code",
      "execution_count": 78,
      "metadata": {
        "id": "j-5MUl6B52ms",
        "colab": {
          "base_uri": "https://localhost:8080/",
          "height": 0
        },
        "outputId": "0424e201-474b-4105-f016-1f362177021b"
      },
      "outputs": [
        {
          "output_type": "execute_result",
          "data": {
            "text/html": [
              "\n",
              "  <div id=\"df-5fb19855-d093-45f8-92e9-5466408ab8a0\">\n",
              "    <div class=\"colab-df-container\">\n",
              "      <div>\n",
              "<style scoped>\n",
              "    .dataframe tbody tr th:only-of-type {\n",
              "        vertical-align: middle;\n",
              "    }\n",
              "\n",
              "    .dataframe tbody tr th {\n",
              "        vertical-align: top;\n",
              "    }\n",
              "\n",
              "    .dataframe thead th {\n",
              "        text-align: right;\n",
              "    }\n",
              "</style>\n",
              "<table border=\"1\" class=\"dataframe\">\n",
              "  <thead>\n",
              "    <tr style=\"text-align: right;\">\n",
              "      <th></th>\n",
              "      <th>sg</th>\n",
              "      <th>htn</th>\n",
              "      <th>hemo</th>\n",
              "      <th>dm</th>\n",
              "      <th>al</th>\n",
              "      <th>appet</th>\n",
              "      <th>rc</th>\n",
              "      <th>pc</th>\n",
              "    </tr>\n",
              "  </thead>\n",
              "  <tbody>\n",
              "    <tr>\n",
              "      <th>395</th>\n",
              "      <td>1.020</td>\n",
              "      <td>0.0</td>\n",
              "      <td>15.7</td>\n",
              "      <td>0.0</td>\n",
              "      <td>0.0</td>\n",
              "      <td>1.0</td>\n",
              "      <td>4.9</td>\n",
              "      <td>0.0</td>\n",
              "    </tr>\n",
              "    <tr>\n",
              "      <th>396</th>\n",
              "      <td>1.025</td>\n",
              "      <td>0.0</td>\n",
              "      <td>16.5</td>\n",
              "      <td>0.0</td>\n",
              "      <td>0.0</td>\n",
              "      <td>1.0</td>\n",
              "      <td>6.2</td>\n",
              "      <td>0.0</td>\n",
              "    </tr>\n",
              "    <tr>\n",
              "      <th>397</th>\n",
              "      <td>1.020</td>\n",
              "      <td>0.0</td>\n",
              "      <td>15.8</td>\n",
              "      <td>0.0</td>\n",
              "      <td>0.0</td>\n",
              "      <td>1.0</td>\n",
              "      <td>5.4</td>\n",
              "      <td>0.0</td>\n",
              "    </tr>\n",
              "    <tr>\n",
              "      <th>398</th>\n",
              "      <td>1.025</td>\n",
              "      <td>0.0</td>\n",
              "      <td>14.2</td>\n",
              "      <td>0.0</td>\n",
              "      <td>0.0</td>\n",
              "      <td>1.0</td>\n",
              "      <td>5.9</td>\n",
              "      <td>0.0</td>\n",
              "    </tr>\n",
              "    <tr>\n",
              "      <th>399</th>\n",
              "      <td>1.025</td>\n",
              "      <td>0.0</td>\n",
              "      <td>15.8</td>\n",
              "      <td>0.0</td>\n",
              "      <td>0.0</td>\n",
              "      <td>1.0</td>\n",
              "      <td>6.1</td>\n",
              "      <td>0.0</td>\n",
              "    </tr>\n",
              "  </tbody>\n",
              "</table>\n",
              "</div>\n",
              "      <button class=\"colab-df-convert\" onclick=\"convertToInteractive('df-5fb19855-d093-45f8-92e9-5466408ab8a0')\"\n",
              "              title=\"Convert this dataframe to an interactive table.\"\n",
              "              style=\"display:none;\">\n",
              "        \n",
              "  <svg xmlns=\"http://www.w3.org/2000/svg\" height=\"24px\"viewBox=\"0 0 24 24\"\n",
              "       width=\"24px\">\n",
              "    <path d=\"M0 0h24v24H0V0z\" fill=\"none\"/>\n",
              "    <path d=\"M18.56 5.44l.94 2.06.94-2.06 2.06-.94-2.06-.94-.94-2.06-.94 2.06-2.06.94zm-11 1L8.5 8.5l.94-2.06 2.06-.94-2.06-.94L8.5 2.5l-.94 2.06-2.06.94zm10 10l.94 2.06.94-2.06 2.06-.94-2.06-.94-.94-2.06-.94 2.06-2.06.94z\"/><path d=\"M17.41 7.96l-1.37-1.37c-.4-.4-.92-.59-1.43-.59-.52 0-1.04.2-1.43.59L10.3 9.45l-7.72 7.72c-.78.78-.78 2.05 0 2.83L4 21.41c.39.39.9.59 1.41.59.51 0 1.02-.2 1.41-.59l7.78-7.78 2.81-2.81c.8-.78.8-2.07 0-2.86zM5.41 20L4 18.59l7.72-7.72 1.47 1.35L5.41 20z\"/>\n",
              "  </svg>\n",
              "      </button>\n",
              "      \n",
              "  <style>\n",
              "    .colab-df-container {\n",
              "      display:flex;\n",
              "      flex-wrap:wrap;\n",
              "      gap: 12px;\n",
              "    }\n",
              "\n",
              "    .colab-df-convert {\n",
              "      background-color: #E8F0FE;\n",
              "      border: none;\n",
              "      border-radius: 50%;\n",
              "      cursor: pointer;\n",
              "      display: none;\n",
              "      fill: #1967D2;\n",
              "      height: 32px;\n",
              "      padding: 0 0 0 0;\n",
              "      width: 32px;\n",
              "    }\n",
              "\n",
              "    .colab-df-convert:hover {\n",
              "      background-color: #E2EBFA;\n",
              "      box-shadow: 0px 1px 2px rgba(60, 64, 67, 0.3), 0px 1px 3px 1px rgba(60, 64, 67, 0.15);\n",
              "      fill: #174EA6;\n",
              "    }\n",
              "\n",
              "    [theme=dark] .colab-df-convert {\n",
              "      background-color: #3B4455;\n",
              "      fill: #D2E3FC;\n",
              "    }\n",
              "\n",
              "    [theme=dark] .colab-df-convert:hover {\n",
              "      background-color: #434B5C;\n",
              "      box-shadow: 0px 1px 3px 1px rgba(0, 0, 0, 0.15);\n",
              "      filter: drop-shadow(0px 1px 2px rgba(0, 0, 0, 0.3));\n",
              "      fill: #FFFFFF;\n",
              "    }\n",
              "  </style>\n",
              "\n",
              "      <script>\n",
              "        const buttonEl =\n",
              "          document.querySelector('#df-5fb19855-d093-45f8-92e9-5466408ab8a0 button.colab-df-convert');\n",
              "        buttonEl.style.display =\n",
              "          google.colab.kernel.accessAllowed ? 'block' : 'none';\n",
              "\n",
              "        async function convertToInteractive(key) {\n",
              "          const element = document.querySelector('#df-5fb19855-d093-45f8-92e9-5466408ab8a0');\n",
              "          const dataTable =\n",
              "            await google.colab.kernel.invokeFunction('convertToInteractive',\n",
              "                                                     [key], {});\n",
              "          if (!dataTable) return;\n",
              "\n",
              "          const docLinkHtml = 'Like what you see? Visit the ' +\n",
              "            '<a target=\"_blank\" href=https://colab.research.google.com/notebooks/data_table.ipynb>data table notebook</a>'\n",
              "            + ' to learn more about interactive tables.';\n",
              "          element.innerHTML = '';\n",
              "          dataTable['output_type'] = 'display_data';\n",
              "          await google.colab.output.renderOutput(dataTable, element);\n",
              "          const docLink = document.createElement('div');\n",
              "          docLink.innerHTML = docLinkHtml;\n",
              "          element.appendChild(docLink);\n",
              "        }\n",
              "      </script>\n",
              "    </div>\n",
              "  </div>\n",
              "  "
            ],
            "text/plain": [
              "        sg  htn  hemo   dm   al  appet   rc   pc\n",
              "395  1.020  0.0  15.7  0.0  0.0    1.0  4.9  0.0\n",
              "396  1.025  0.0  16.5  0.0  0.0    1.0  6.2  0.0\n",
              "397  1.020  0.0  15.8  0.0  0.0    1.0  5.4  0.0\n",
              "398  1.025  0.0  14.2  0.0  0.0    1.0  5.9  0.0\n",
              "399  1.025  0.0  15.8  0.0  0.0    1.0  6.1  0.0"
            ]
          },
          "metadata": {},
          "execution_count": 78
        }
      ],
      "source": [
        "#Função para ver os últimos registros\n",
        "X.tail()"
      ]
    },
    {
      "cell_type": "code",
      "execution_count": 79,
      "metadata": {
        "id": "oHt-edZf52mt",
        "colab": {
          "base_uri": "https://localhost:8080/"
        },
        "outputId": "89d46ea1-5c33-4909-ae63-311b1ce6be63"
      },
      "outputs": [
        {
          "output_type": "execute_result",
          "data": {
            "text/plain": [
              "0    1\n",
              "1    1\n",
              "2    1\n",
              "3    1\n",
              "4    1\n",
              "Name: classification, dtype: int64"
            ]
          },
          "metadata": {},
          "execution_count": 79
        }
      ],
      "source": [
        "#Verificando o target\n",
        "y.head()"
      ]
    },
    {
      "cell_type": "markdown",
      "source": [
        "### 4.2 - Fazendo a amostragem dos dados para Treinar (dados de treino) e para Avaliar a Máquina Preditiva (dados de teste)"
      ],
      "metadata": {
        "id": "-kXCkUihK3XR"
      }
    },
    {
      "cell_type": "code",
      "execution_count": 80,
      "metadata": {
        "id": "eybJapRU52mt"
      },
      "outputs": [],
      "source": [
        "# Train Test Split:\n",
        "from sklearn.model_selection import train_test_split\n",
        "X_train,X_test,y_train,y_test = train_test_split(X,y, test_size=0.3, random_state=33)"
      ]
    },
    {
      "cell_type": "code",
      "execution_count": null,
      "metadata": {
        "id": "zVGlRzRQ52mt",
        "colab": {
          "base_uri": "https://localhost:8080/"
        },
        "outputId": "b6ecd6be-7143-4040-c4e7-5666f7cecbe2"
      },
      "outputs": [
        {
          "output_type": "stream",
          "name": "stdout",
          "text": [
            "(280, 8)\n",
            "(120, 8)\n"
          ]
        }
      ],
      "source": [
        "print(X_train.shape)\n",
        "print(X_test.shape)"
      ]
    },
    {
      "cell_type": "markdown",
      "metadata": {
        "id": "e3gE_YpT52mt"
      },
      "source": [
        "#### Obs: Existem algooritmos que esperam receber dados normalizados (dados que estejam numa mesma escala). Não faremos isso, pois os algoritmos que vamos usar não necessariamente requer que façamos isso. Eles são conhecidos como \"Não-Paramétricos\"."
      ]
    },
    {
      "cell_type": "markdown",
      "source": [
        "### 4.3 - Criando o Baseline com o Algoritmo **RandomForest**"
      ],
      "metadata": {
        "id": "6SIgbhs0L8GO"
      }
    },
    {
      "cell_type": "code",
      "execution_count": 95,
      "metadata": {
        "id": "xKSSRrUw52mt"
      },
      "outputs": [],
      "source": [
        "# RandomForestClassifier:\n",
        "from sklearn.ensemble import RandomForestClassifier\n",
        "from sklearn.metrics import accuracy_score, confusion_matrix, classification_report"
      ]
    },
    {
      "cell_type": "code",
      "source": [
        "#Realizando o treinamento (fit) com os dados de treino\n",
        "RandomForest = RandomForestClassifier()\n",
        "RandomForest = RandomForest.fit(X_train,y_train)"
      ],
      "metadata": {
        "id": "ggl7sx3fLyZE"
      },
      "execution_count": 96,
      "outputs": []
    },
    {
      "cell_type": "code",
      "source": [
        "# Fazendo Previsões com dados de teste:\n",
        "y_pred = RandomForest.predict(X_test)"
      ],
      "metadata": {
        "id": "JmxMfLOGL0Zv"
      },
      "execution_count": 97,
      "outputs": []
    },
    {
      "cell_type": "code",
      "source": [
        "# Avaliando a Performance comparando com o gabarito (y) de teste:\n",
        "print('Accuracy:', accuracy_score(y_test,y_pred))\n",
        "print(classification_report(y_test,y_pred))"
      ],
      "metadata": {
        "id": "t6mhNJWNMkGI",
        "colab": {
          "base_uri": "https://localhost:8080/"
        },
        "outputId": "a0811b84-fca5-45d6-c2f0-002e1baffb4c"
      },
      "execution_count": 98,
      "outputs": [
        {
          "output_type": "stream",
          "name": "stdout",
          "text": [
            "Accuracy: 0.975\n",
            "              precision    recall  f1-score   support\n",
            "\n",
            "           0       1.00      0.95      0.97        58\n",
            "           1       0.95      1.00      0.98        62\n",
            "\n",
            "    accuracy                           0.97       120\n",
            "   macro avg       0.98      0.97      0.97       120\n",
            "weighted avg       0.98      0.97      0.97       120\n",
            "\n"
          ]
        }
      ]
    },
    {
      "cell_type": "code",
      "source": [
        "cf_matrix = confusion_matrix(y_test,y_pred)\n",
        "print(cf_matrix)"
      ],
      "metadata": {
        "colab": {
          "base_uri": "https://localhost:8080/"
        },
        "id": "wZX9xyVNVlmV",
        "outputId": "85272bc2-8f8e-4c73-94bc-bf10531b855d"
      },
      "execution_count": 85,
      "outputs": [
        {
          "output_type": "stream",
          "name": "stdout",
          "text": [
            "[[55  3]\n",
            " [ 0 62]]\n"
          ]
        }
      ]
    },
    {
      "cell_type": "code",
      "source": [
        "\n",
        "\n",
        "ax = sns.heatmap(cf_matrix, annot=True, cmap='Blues')\n",
        "ax.set_title('Confusion Matrix with labels\\n\\n');\n",
        "ax.set_xlabel('\\nPredicted Values')\n",
        "ax.set_ylabel('Actual Values ');\n",
        "\n",
        "## Ticket labels - List must be in alphabetical order\n",
        "ax.xaxis.set_ticklabels(['False','True'])\n",
        "ax.yaxis.set_ticklabels(['False','True'])\n",
        "\n",
        "## Display the visualization of the Confusion Matrix.\n",
        "plt.show()"
      ],
      "metadata": {
        "colab": {
          "base_uri": "https://localhost:8080/",
          "height": 336
        },
        "id": "qh7AIRKuY3n8",
        "outputId": "852acf40-38aa-4d29-fd20-ad1e1e87214b"
      },
      "execution_count": 86,
      "outputs": [
        {
          "output_type": "display_data",
          "data": {
            "image/png": "[encoded data removed]",
            "text/plain": [
              "<Figure size 432x288 with 2 Axes>"
            ]
          },
          "metadata": {
            "needs_background": "light"
          }
        }
      ]
    },
    {
      "cell_type": "markdown",
      "source": [
        "### 4.4 - Criando a MP com o Algoritmo **GradientBoosting**"
      ],
      "metadata": {
        "id": "D5ipVL97Mx4r"
      }
    },
    {
      "cell_type": "code",
      "execution_count": 94,
      "metadata": {
        "id": "vXvpbb_Z52mu",
        "colab": {
          "base_uri": "https://localhost:8080/"
        },
        "outputId": "c0ca35c0-de0f-420d-a539-a20c6092fb31"
      },
      "outputs": [
        {
          "output_type": "stream",
          "name": "stdout",
          "text": [
            "[1 0 0 1 1 1 0 1 1 1 0 0 1 0 0 1 0 0 1 1 0 1 1 0 1 1 1 1 1 0 0 0 0 0 0 1 0\n",
            " 1 1 1 1 0 1 0 0 1 0 0 1 1 0 1 0 1 0 1 1 1 0 1 1 0 0 0 0 1 0 1 0 0 1 1 0 0\n",
            " 0 0 1 0 0 0 0 0 0 1 0 0 0 0 1 1 1 1 1 0 0 1 1 1 0 1 0 1 1 1 1 1 1 0 1 1 0\n",
            " 1 1 1 0 1 0 0 0 1]\n",
            "Accuracy: 1.0\n",
            "              precision    recall  f1-score   support\n",
            "\n",
            "           0       1.00      1.00      1.00        58\n",
            "           1       1.00      1.00      1.00        62\n",
            "\n",
            "    accuracy                           1.00       120\n",
            "   macro avg       1.00      1.00      1.00       120\n",
            "weighted avg       1.00      1.00      1.00       120\n",
            "\n"
          ]
        }
      ],
      "source": [
        "# GradientBoostingClassifier:\n",
        "from sklearn.ensemble import GradientBoostingClassifier\n",
        "GradientBoost = GradientBoostingClassifier(n_estimators=2000)\n",
        "GradientBoost = GradientBoost.fit(X_train,y_train)\n",
        "# Predictions:\n",
        "y_pred = GradientBoost.predict(X_test)\n",
        "\n",
        "print(y_pred)\n",
        "\n",
        "# Performance:\n",
        "print('Accuracy:', accuracy_score(y_test,y_pred))\n",
        "print(classification_report(y_test,y_pred))"
      ]
    },
    {
      "cell_type": "code",
      "source": [
        "cf_matrix = confusion_matrix(y_test,y_pred)\n",
        "print(cf_matrix)"
      ],
      "metadata": {
        "id": "UFRjl7s6ZpXh",
        "colab": {
          "base_uri": "https://localhost:8080/"
        },
        "outputId": "557f2947-9ea6-44d7-d43c-0540a30bab38"
      },
      "execution_count": 88,
      "outputs": [
        {
          "output_type": "stream",
          "name": "stdout",
          "text": [
            "[[58  0]\n",
            " [ 1 61]]\n"
          ]
        }
      ]
    },
    {
      "cell_type": "code",
      "source": [
        "ax = sns.heatmap(cf_matrix, annot=True, cmap='Blues')\n",
        "ax.set_title('Confusion Matrix with labels\\n\\n');\n",
        "ax.set_xlabel('\\nPredicted Values')\n",
        "ax.set_ylabel('Actual Values ');\n",
        "\n",
        "## Ticket labels - List must be in alphabetical order\n",
        "ax.xaxis.set_ticklabels(['False','True'])\n",
        "ax.yaxis.set_ticklabels(['False','True'])\n",
        "\n",
        "## Display the visualization of the Confusion Matrix.\n",
        "plt.show()"
      ],
      "metadata": {
        "colab": {
          "base_uri": "https://localhost:8080/",
          "height": 336
        },
        "id": "kQELAB2HZ1dq",
        "outputId": "581fae4f-106e-4f31-ecd3-b060ca05fd71"
      },
      "execution_count": 89,
      "outputs": [
        {
          "output_type": "display_data",
          "data": {
            "image/png": "[encoded data removed]",
            "text/plain": [
              "<Figure size 432x288 with 2 Axes>"
            ]
          },
          "metadata": {
            "needs_background": "light"
          }
        }
      ]
    },
    {
      "cell_type": "code",
      "source": [
        "ax = sns.heatmap(cf_matrix/np.sum(cf_matrix), annot=True, \n",
        "            fmt='.2%', cmap='Blues')\n",
        "\n",
        "ax.set_title('Confusion Matrix with labels\\n\\n');\n",
        "ax.set_xlabel('\\nPredicted Values')\n",
        "ax.set_ylabel('Actual Values ');\n",
        "\n",
        "## Ticket labels - List must be in alphabetical order\n",
        "ax.xaxis.set_ticklabels(['False','True'])\n",
        "ax.yaxis.set_ticklabels(['False','True'])\n",
        "\n",
        "## Display the visualization of the Confusion Matrix.\n",
        "plt.show()"
      ],
      "metadata": {
        "colab": {
          "base_uri": "https://localhost:8080/",
          "height": 336
        },
        "id": "kS-U6R8TaF8a",
        "outputId": "615604de-106f-423f-d165-8941545f2e65"
      },
      "execution_count": 90,
      "outputs": [
        {
          "output_type": "display_data",
          "data": {
            "image/png": "[encoded data removed]",
            "text/plain": [
              "<Figure size 432x288 with 2 Axes>"
            ]
          },
          "metadata": {
            "needs_background": "light"
          }
        }
      ]
    },
    {
      "cell_type": "code",
      "source": [
        "#Matriz completa\n",
        "group_names = ['True Neg','False Pos','False Neg','True Pos']\n",
        "\n",
        "group_counts = [\"{0:0.0f}\".format(value) for value in\n",
        "                cf_matrix.flatten()]\n",
        "group_percentages = [\"{0:.2%}\".format(value) for value in\n",
        "                     cf_matrix.flatten()/np.sum(cf_matrix)]\n",
        "labels = [f\"{v1}\\n{v2}\\n{v3}\" for v1, v2, v3 in\n",
        "          zip(group_names,group_counts,group_percentages)]\n",
        "labels = np.asarray(labels).reshape(2,2)\n",
        "ax = sns.heatmap(cf_matrix, annot=labels, fmt='', cmap='Blues')\n",
        "ax.set_title('Complete Confusion Matrix with labels\\n\\n');\n",
        "ax.set_xlabel('\\nPredicted Values')\n",
        "ax.set_ylabel('Actual Values ');\n",
        "\n",
        "## Ticket labels - List must be in alphabetical order\n",
        "ax.xaxis.set_ticklabels(['False','True'])\n",
        "ax.yaxis.set_ticklabels(['False','True'])\n",
        "\n",
        "## Display the visualization of the Confusion Matrix.\n",
        "plt.show()"
      ],
      "metadata": {
        "colab": {
          "base_uri": "https://localhost:8080/",
          "height": 336
        },
        "id": "gZK0Tm1saUMo",
        "outputId": "f9452ce0-e9aa-4778-a909-982a19108d72"
      },
      "execution_count": 91,
      "outputs": [
        {
          "output_type": "display_data",
          "data": {
            "image/png": "[encoded data removed]",
            "text/plain": [
              "<Figure size 432x288 with 2 Axes>"
            ]
          },
          "metadata": {
            "needs_background": "light"
          }
        }
      ]
    },
    {
      "cell_type": "markdown",
      "source": [
        "### 4.5 Salvamento da Máquina Preditiva"
      ],
      "metadata": {
        "id": "lzp3TMPFN7Jq"
      }
    },
    {
      "cell_type": "code",
      "source": [
        "# Creating a pickle file for the classifier RandomForest\n",
        "import pickle\n",
        "filename = 'Kidney.pkl'\n",
        "pickle.dump(RandomForest, open(filename, 'wb'))\n"
      ],
      "metadata": {
        "id": "fljc6_KcN6g1"
      },
      "execution_count": 93,
      "outputs": []
    },
    {
      "cell_type": "markdown",
      "source": [
        "# FIM"
      ],
      "metadata": {
        "id": "jNrc8V8EgIvP"
      }
    },
    {
      "cell_type": "markdown",
      "source": [
        "![](https://i.gifer.com/origin/52/52b45d3e66b582b094f9d2369498922e_w200.webp)\n"
      ],
      "metadata": {
        "id": "zb406ptHQtqF"
      }
    },
    {
      "cell_type": "markdown",
      "source": [
        "\n",
        "![](https://thumbs.gfycat.com/TediousBleakGalapagostortoise-size_restricted.gif)\n"
      ],
      "metadata": {
        "id": "KxxjgCkiQe0g"
      }
    }
  ]
}